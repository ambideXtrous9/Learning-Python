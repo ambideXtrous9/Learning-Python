{
 "cells": [
  {
   "cell_type": "markdown",
   "metadata": {},
   "source": [
    "## **Palindrome Linked List**"
   ]
  },
  {
   "cell_type": "code",
   "execution_count": null,
   "metadata": {},
   "outputs": [],
   "source": [
    "class Solution:\n",
    "    def isPalindrome(self, head) -> bool:\n",
    "\n",
    "        if(head == None or head.next == None): return True\n",
    "\n",
    "        slow = head\n",
    "        fast = head\n",
    "\n",
    "        S = []\n",
    "\n",
    "        while(fast and fast.next):\n",
    "\n",
    "            S.append(slow)\n",
    "            slow = slow.next\n",
    "            fast = fast.next.next\n",
    "\n",
    "        if(fast): slow = slow.next\n",
    "\n",
    "        while(slow):\n",
    "\n",
    "            node = S.pop()\n",
    "\n",
    "            if(node.val != slow.val): return False\n",
    "\n",
    "            slow = slow.next\n",
    "\n",
    "        return True \n",
    "        "
   ]
  },
  {
   "cell_type": "code",
   "execution_count": null,
   "metadata": {},
   "outputs": [],
   "source": []
  }
 ],
 "metadata": {
  "language_info": {
   "name": "python"
  }
 },
 "nbformat": 4,
 "nbformat_minor": 2
}
