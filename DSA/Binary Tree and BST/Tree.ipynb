{
 "cells": [
  {
   "cell_type": "code",
   "execution_count": 1,
   "metadata": {},
   "outputs": [],
   "source": [
    "class Node:\n",
    "    def __init__(self,val,left=None,right=None):\n",
    "        self.val = val\n",
    "        self.left = left\n",
    "        self.right = right"
   ]
  },
  {
   "cell_type": "markdown",
   "metadata": {},
   "source": [
    "## **Inorder**"
   ]
  },
  {
   "cell_type": "code",
   "execution_count": null,
   "metadata": {},
   "outputs": [],
   "source": [
    "class Solution:\n",
    "    \n",
    "    def inorderRec(self,root):\n",
    "        \n",
    "        if(root == None) : return \n",
    "        \n",
    "        self.inorderRec(root=root.left)\n",
    "        \n",
    "        print(root.val)\n",
    "        \n",
    "        self.inorderRec(root=root.right)\n",
    "    \n",
    "    def inorderItr(self,root):\n",
    "        \n",
    "        self.res = []\n",
    "        \n",
    "        if(root == None): return self.res\n",
    "        \n",
    "        S = []\n",
    "        \n",
    "        cur = root \n",
    "        \n",
    "        \n",
    "        while(S or cur):\n",
    "            \n",
    "            while(cur):\n",
    "                S.append(cur)\n",
    "                cur = cur.left\n",
    "                \n",
    "            node = S.pop()\n",
    "            self.res.append(node)\n",
    "            \n",
    "            if(node.right): S.append(node.right)    "
   ]
  },
  {
   "cell_type": "markdown",
   "metadata": {},
   "source": [
    "## **Preorder**"
   ]
  },
  {
   "cell_type": "code",
   "execution_count": null,
   "metadata": {},
   "outputs": [],
   "source": [
    "class Solution:\n",
    "    \n",
    "    def preorderRec(self,root):\n",
    "        \n",
    "        if(root == None) : return \n",
    "        \n",
    "        \n",
    "        print(root.val)\n",
    "        \n",
    "        self.inorderRec(root=root.left)\n",
    "        \n",
    "        self.inorderRec(root=root.right)\n",
    "        \n",
    "        \n",
    "    def preorderItr(self,root):\n",
    "        \n",
    "        self.res = []\n",
    "        \n",
    "        if(root == None): return self.res\n",
    "        \n",
    "        S = []\n",
    "        \n",
    "        S.append(root)\n",
    "        \n",
    "        while(S):\n",
    "            \n",
    "            node = S.pop()\n",
    "            self.res.append(node.val)\n",
    "                \n",
    "            if(node.right): S.append(node.right)\n",
    "            if(node.left): S.append(node.left)     "
   ]
  },
  {
   "cell_type": "markdown",
   "metadata": {},
   "source": [
    "## **Postorder**"
   ]
  },
  {
   "cell_type": "code",
   "execution_count": null,
   "metadata": {},
   "outputs": [],
   "source": [
    "class Solution:\n",
    "    \n",
    "    def postorderRec(self,root):\n",
    "        \n",
    "        if(root == None) : return \n",
    "        \n",
    "        self.inorderRec(root=root.left)\n",
    "        \n",
    "        self.inorderRec(root=root.right)\n",
    "        \n",
    "        print(root.val)\n",
    "        \n",
    "        \n",
    "    def postorderItr(self,root):\n",
    "        \n",
    "        self.res = []\n",
    "        \n",
    "        if(root == None): return self.res\n",
    "        \n",
    "        S = []\n",
    "        \n",
    "        S.append(root)\n",
    "        \n",
    "        while(S):\n",
    "            \n",
    "            node = S.pop()\n",
    "            self.res.append(node.val)\n",
    "                \n",
    "            if(node.left): S.append(node.left)\n",
    "            if(node.right): S.append(node.right)\n",
    "            \n",
    "        self.res = self.res.reverse()\n",
    "        \n",
    "             "
   ]
  }
 ],
 "metadata": {
  "kernelspec": {
   "display_name": "Python 3",
   "language": "python",
   "name": "python3"
  },
  "language_info": {
   "codemirror_mode": {
    "name": "ipython",
    "version": 3
   },
   "file_extension": ".py",
   "mimetype": "text/x-python",
   "name": "python",
   "nbconvert_exporter": "python",
   "pygments_lexer": "ipython3",
   "version": "3.8.10"
  }
 },
 "nbformat": 4,
 "nbformat_minor": 2
}
