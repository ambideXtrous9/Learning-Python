{
 "cells": [
  {
   "cell_type": "code",
   "execution_count": 15,
   "metadata": {},
   "outputs": [
    {
     "name": "stdout",
     "output_type": "stream",
     "text": [
      "-1\n"
     ]
    }
   ],
   "source": [
    "from collections import defaultdict\n",
    "\n",
    "d = defaultdict(lambda : -1) ## value to give for missing key\n",
    "\n",
    "d['apple'] = 50\n",
    "\n",
    "print(d['orange'])"
   ]
  },
  {
   "cell_type": "markdown",
   "metadata": {},
   "source": [
    "## **Cycle Detection in UDG**"
   ]
  },
  {
   "cell_type": "code",
   "execution_count": 16,
   "metadata": {},
   "outputs": [],
   "source": [
    "class Graph:\n",
    "    def __init__(self,nodes):\n",
    "\n",
    "        self.n = nodes\n",
    "        self.visited = []\n",
    "        self.adj = defaultdict(list) # always use defaultdict and list for Adjacency List\n",
    "\n",
    "    def AddEdge(self,u,v):\n",
    "\n",
    "        self.adj[u].append(v)\n",
    "        self.adj[v].append(u)\n",
    "\n",
    "    def PrintEdge(self):\n",
    "\n",
    "        for key,vals in self.adj.items():\n",
    "            print(f\"[{key}] -> {vals}\")\n",
    "\n",
    "    def CycleBFS(self,s):\n",
    "\n",
    "        Q = []\n",
    "\n",
    "        Q.append((s,-1)) # <node,parent>\n",
    "\n",
    "        self.visited[s] = True\n",
    "\n",
    "        while(Q):\n",
    "\n",
    "            (u,parent) = Q.pop(0)\n",
    "\n",
    "            for v in self.adj[u]:\n",
    "\n",
    "                if self.visited[v] == False:\n",
    "                    self.visited[v] = True\n",
    "                    Q.append((v,u))\n",
    "                \n",
    "                elif(v!=parent):\n",
    "                    return True\n",
    "                \n",
    "        return False\n",
    "    \n",
    "    def BFS(self):\n",
    "\n",
    "        n = len(self.adj)\n",
    "\n",
    "        self.visited = [False for _ in range(n)]\n",
    "\n",
    "        for key in self.adj.keys():\n",
    "            if self.visited[key] == False:\n",
    "                if(self.CycleBFS(key)): \n",
    "                    return True\n",
    "\n",
    "        return True"
   ]
  },
  {
   "cell_type": "markdown",
   "metadata": {},
   "source": [
    "## **Cycle Detection in DG**"
   ]
  },
  {
   "cell_type": "code",
   "execution_count": 18,
   "metadata": {},
   "outputs": [],
   "source": [
    "class Graph:\n",
    "    def __init__(self,nodes):\n",
    "\n",
    "        self.n = nodes\n",
    "        self.visited = []\n",
    "        self.adj = defaultdict(list) # always use defaultdict and list for Adjacency List\n",
    "\n",
    "    def AddEdge(self,u,v):\n",
    "\n",
    "        self.adj[u].append(v)\n",
    "\n",
    "    def PrintEdge(self):\n",
    "\n",
    "        for key,vals in self.adj.items():\n",
    "            print(f\"[{key}] -> {vals}\")\n",
    "\n",
    "    def CycleBFS_DG(self,s):\n",
    "\n",
    "\n",
    "        Q = []\n",
    "\n",
    "       \n",
    "        self.visited = [False for _ in range(self.n)]\n",
    "       \n",
    "        self.indegree = [0 for _ in range(self.n)]\n",
    "\n",
    "        for key in self.adj.keys():\n",
    "\n",
    "            for v in self.adj[key]:\n",
    "\n",
    "                self.indegree[v] += 1\n",
    "\n",
    "        \n",
    "\n",
    "        for i in range(self.n):\n",
    "            if self.indegree[i] == 0:\n",
    "                Q.append(i)\n",
    "        \n",
    "        count = 0\n",
    "\n",
    "        while(Q):\n",
    "\n",
    "            u = Q.pop(0)\n",
    "\n",
    "            count += 1\n",
    "\n",
    "            for v in self.adj[u]:\n",
    "\n",
    "                self.indegree[v] -= 1\n",
    "\n",
    "                if self.indegree[v] == 0:\n",
    "                    Q.append(v)\n",
    "                \n",
    "        return count!=self.n"
   ]
  },
  {
   "cell_type": "code",
   "execution_count": 17,
   "metadata": {},
   "outputs": [
    {
     "name": "stdout",
     "output_type": "stream",
     "text": [
      "[0] -> [1, 2]\n",
      "[1] -> [0, 3, 4]\n",
      "[2] -> [0, 3]\n",
      "[3] -> [1, 2, 5]\n",
      "[4] -> [1, 6]\n",
      "[5] -> [3, 6]\n",
      "[6] -> [4, 5]\n",
      "True\n"
     ]
    }
   ],
   "source": [
    "if __name__ == \"__main__\":\n",
    "    \n",
    "    nodes = 7 \n",
    "\n",
    "    g = Graph(nodes)\n",
    "\n",
    "    g.AddEdge(0, 1)\n",
    "    g.AddEdge(0, 2)\n",
    "    g.AddEdge(1, 3)\n",
    "    g.AddEdge(1, 4)\n",
    "    g.AddEdge(2, 3)\n",
    "    g.AddEdge(3, 5)\n",
    "    g.AddEdge(4, 6)\n",
    "    g.AddEdge(5, 6)\n",
    "\n",
    "    g.PrintEdge()\n",
    "\n",
    "    print(g.BFS())"
   ]
  },
  {
   "cell_type": "code",
   "execution_count": 14,
   "metadata": {},
   "outputs": [
    {
     "name": "stdout",
     "output_type": "stream",
     "text": [
      "-1\n"
     ]
    }
   ],
   "source": []
  },
  {
   "cell_type": "code",
   "execution_count": null,
   "metadata": {},
   "outputs": [],
   "source": []
  }
 ],
 "metadata": {
  "kernelspec": {
   "display_name": "base",
   "language": "python",
   "name": "python3"
  },
  "language_info": {
   "codemirror_mode": {
    "name": "ipython",
    "version": 3
   },
   "file_extension": ".py",
   "mimetype": "text/x-python",
   "name": "python",
   "nbconvert_exporter": "python",
   "pygments_lexer": "ipython3",
   "version": "3.11.5"
  }
 },
 "nbformat": 4,
 "nbformat_minor": 2
}
