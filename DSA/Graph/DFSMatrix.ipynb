{
 "cells": [
  {
   "cell_type": "code",
   "execution_count": 1,
   "metadata": {},
   "outputs": [],
   "source": [
    "from collections import defaultdict"
   ]
  },
  {
   "cell_type": "markdown",
   "metadata": {},
   "source": [
    "## **Max Area of Island**"
   ]
  },
  {
   "cell_type": "code",
   "execution_count": 2,
   "metadata": {},
   "outputs": [],
   "source": [
    "class Solution:\n",
    "    \n",
    "    def DFS(self,i,j):\n",
    "\n",
    "        if(i<0 or j<0 or i>= self.n or j >= self.m or self.grid[i][j] == 0): return 0\n",
    "            \n",
    "        self.grid[i][j] = 0\n",
    "\n",
    "        return 1 + self.DFS(i+1,j) + self.DFS(i,j+1) + self.DFS(i-1,j) + self.DFS(i,j-1)\n",
    "\n",
    "\n",
    "    def maxAreaOfIsland(self, grid) -> int:\n",
    "\n",
    "        self.grid = grid\n",
    "\n",
    "        self.n = len(grid)\n",
    "\n",
    "        self.m = len(grid[0])\n",
    "\n",
    "        self.res = 0\n",
    "\n",
    "        for i in range(self.n):\n",
    "\n",
    "            for j in  range(self.m):\n",
    "\n",
    "                if self.grid[i][j] == 1:\n",
    "\n",
    "                    isize = self.DFS(i,j)\n",
    "\n",
    "                    self.res = max(self.res,isize)\n",
    "\n",
    "        return self.res\n",
    "    "
   ]
  },
  {
   "cell_type": "markdown",
   "metadata": {},
   "source": [
    "## **Number of Distinct Islands**"
   ]
  },
  {
   "cell_type": "code",
   "execution_count": 3,
   "metadata": {},
   "outputs": [],
   "source": [
    "import sys\n",
    "from typing import List\n",
    "from collections import defaultdict\n",
    "sys.setrecursionlimit(10**8)\n",
    "\n",
    "\n",
    "\n",
    "class Solution:\n",
    "    \n",
    "    def DFS(self,i,j):\n",
    "        \n",
    "        if(i<0 or j<0 or i>=self.n or j >= self.m or self.grid[i][j] == 0): return\n",
    "        \n",
    "        self.grid[i][j] = 0\n",
    "        \n",
    "        \n",
    "        self.S += \"U\"\n",
    "        self.DFS(i-1,j)\n",
    "        \n",
    "        self.S += \"D\"\n",
    "        self.DFS(i+1,j)\n",
    "        \n",
    "        self.S += \"R\"\n",
    "        self.DFS(i,j+1)\n",
    "        \n",
    "        self.S += \"L\"\n",
    "        self.DFS(i,j-1)\n",
    "\n",
    "    \n",
    "    def countDistinctIslands(self, grid : List[List[int]]) -> int:\n",
    "        \n",
    "        self.grid = grid\n",
    "        \n",
    "        self.n = len(grid)\n",
    "        self.m = len(grid[0])\n",
    "        \n",
    "        self.dic = defaultdict(int)\n",
    "        \n",
    "\n",
    "        for i  in range(self.n):\n",
    "            \n",
    "            for j in range(self.m):\n",
    "                \n",
    "                if(grid[i][j] == 1):\n",
    "                    \n",
    "                    self.S = \"\"\n",
    "                    \n",
    "                    self.DFS(i,j)\n",
    "                    \n",
    "                    self.dic[self.S] += 1\n",
    "        \n",
    "        return len(self.dic)\n",
    "        # code here\n"
   ]
  }
 ],
 "metadata": {
  "kernelspec": {
   "display_name": "Python 3",
   "language": "python",
   "name": "python3"
  },
  "language_info": {
   "codemirror_mode": {
    "name": "ipython",
    "version": 3
   },
   "file_extension": ".py",
   "mimetype": "text/x-python",
   "name": "python",
   "nbconvert_exporter": "python",
   "pygments_lexer": "ipython3",
   "version": "3.8.10"
  }
 },
 "nbformat": 4,
 "nbformat_minor": 2
}
