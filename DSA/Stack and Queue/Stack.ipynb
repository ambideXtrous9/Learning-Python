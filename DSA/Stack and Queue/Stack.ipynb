{
 "cells": [
  {
   "cell_type": "markdown",
   "metadata": {},
   "source": [
    "## **Monotonic Stack : NGL NGR NSL NSR**\n",
    "\n",
    "1. NGL\n",
    "2. NSL\n",
    "\n",
    "**For both traverse the array from 0 to (n-1)**\n",
    "\n",
    "1. NGR\n",
    "2. NSR\n",
    "\n",
    "**For both traverse the array from (n-1) to 0**\n",
    "\n",
    "**Initialize the final array with (element = -1,index = -1)**\n",
    "\n",
    "1. For G stack should contain greater Number than current elemnet, if not then keep on popping \n",
    "   until stack is empty.\n",
    "\n",
    "   **while(S and S[0][0] <= curnum) : pop()**\n",
    "\n",
    "   For S stack should contain smaller Number than current elemnet, if not then keep on popping \n",
    "   until stack is empty.\n",
    "\n",
    "   **while(not S and S[0][0] >= curnum) : pop()**\n",
    "\n",
    "2. if stack not empty then put the **stack top** that to result array\n",
    "\n",
    "   **if(S): res <- S.top()** \n",
    "\n",
    "3. push the cur element and its index to the stack\n",
    "\n",
    "   **S.push((curnum,idx))** \n",
    "\n",
    "\n",
    "\n"
   ]
  },
  {
   "cell_type": "code",
   "execution_count": 1,
   "metadata": {},
   "outputs": [],
   "source": [
    "from collections import deque as dq"
   ]
  },
  {
   "cell_type": "code",
   "execution_count": 5,
   "metadata": {},
   "outputs": [
    {
     "name": "stdout",
     "output_type": "stream",
     "text": [
      "[(-1, -1), (-1, -1), (5, 1), (2, 2), (-1, -1), (9, 4), (7, 5)]\n"
     ]
    }
   ],
   "source": [
    "\n",
    "def NGL(arr):\n",
    "    \n",
    "    n = len(arr)\n",
    "    \n",
    "    S = []\n",
    "    \n",
    "    V = [(-1,-1) for _ in range(n)]\n",
    "    \n",
    "    for i in range(n):\n",
    "        \n",
    "        while(S and S[-1][0] <= arr[i]):\n",
    "            S.pop()\n",
    "        \n",
    "        if(S): \n",
    "            V[i] = S[-1]\n",
    "            \n",
    "        S.append((arr[i],i))\n",
    "        \n",
    "    return V\n",
    "\n",
    "\n",
    "arr = [4,5,2,0,9,7,3]\n",
    "\n",
    "V = NGL(arr)\n",
    "\n",
    "print(V)"
   ]
  },
  {
   "cell_type": "code",
   "execution_count": 7,
   "metadata": {},
   "outputs": [
    {
     "name": "stdout",
     "output_type": "stream",
     "text": [
      "[(2, 2), (2, 2), (0, 3), (-1, -1), (7, 5), (3, 6), (-1, -1)]\n"
     ]
    }
   ],
   "source": [
    "\n",
    "def NSR(arr):\n",
    "    \n",
    "    n = len(arr)\n",
    "    \n",
    "    S = []\n",
    "    \n",
    "    V = [(-1,-1) for _ in range(n)]\n",
    "    \n",
    "    for i in range(n-1,-1,-1):\n",
    "        \n",
    "        while(S and S[-1][0] >= arr[i]):\n",
    "            S.pop()\n",
    "        \n",
    "        if(S): \n",
    "            V[i] = S[-1]\n",
    "            \n",
    "        S.append((arr[i],i))\n",
    "        \n",
    "    return V\n",
    "\n",
    "\n",
    "arr = [4,5,2,0,9,7,3]\n",
    "\n",
    "V = NSR(arr)\n",
    "\n",
    "print(V)"
   ]
  },
  {
   "cell_type": "markdown",
   "metadata": {},
   "source": [
    "## **Valid Parantheses**"
   ]
  },
  {
   "cell_type": "code",
   "execution_count": 8,
   "metadata": {},
   "outputs": [],
   "source": [
    "class Solution:\n",
    "    def isValid(self, s: str) -> bool:\n",
    "        stack = []\n",
    "\n",
    "        n = len(s)\n",
    "\n",
    "        if(n==0): return True\n",
    "\n",
    "        if(n==1): return False\n",
    "\n",
    "        for c in s:\n",
    "\n",
    "            if ((c==')' or c=='}' or c==']') and not stack): \n",
    "                return False\n",
    "            \n",
    "            elif (c=='(' or c=='{' or c=='['):\n",
    "                stack.append(c)\n",
    "\n",
    "            elif ((stack[-1] == '(' and c == ')') or (stack[-1] == '{' and c == '}') or (stack[-1] == '[' and c == ']')):\n",
    "                stack.pop()\n",
    "\n",
    "            else:\n",
    "                return False\n",
    "            \n",
    "        return len(stack)==0"
   ]
  },
  {
   "cell_type": "markdown",
   "metadata": {},
   "source": [
    "## **Next Greater Element I**\n",
    "\n",
    "You are given two distinct 0-indexed integer arrays nums1 and nums2, where nums1 is a subset of nums2.\n",
    "\n",
    "1. Find NGR for second array and store the result in a Map(dict)\n",
    "2. for first array find the NGR from map and return the res"
   ]
  },
  {
   "cell_type": "code",
   "execution_count": null,
   "metadata": {},
   "outputs": [],
   "source": [
    "class Solution:\n",
    "    def nextGreaterElement(self, nums1, nums2):\n",
    "\n",
    "        S = []\n",
    "        n = len(nums2)\n",
    "\n",
    "        D = {num : -1 for num in nums2}\n",
    "\n",
    "        for i in range(n-1,-1,-1):\n",
    "\n",
    "            while(S and S[-1] <= nums2[i]):\n",
    "                S.pop()\n",
    "\n",
    "            if(S):\n",
    "                D[nums2[i]] = S[-1]\n",
    "            \n",
    "            S.append(nums2[i])\n",
    "\n",
    "        res = []\n",
    "\n",
    "        for num in nums1:\n",
    "            res.append(D[num])\n",
    "\n",
    "        return res"
   ]
  },
  {
   "cell_type": "markdown",
   "metadata": {},
   "source": [
    "## **Sort a Stack**\n",
    "\n",
    "**Algorithm: O(N^2)**\n",
    "\n",
    "2 Recursion Function Needed : \n",
    "\n",
    "**1. Sort()**\n",
    "\n",
    "**2. insertAtPosition()**\n",
    "\n",
    "1. Take the top element.\n",
    "\n",
    "2. Ask **Recursion to sort the remaining stack.**\n",
    "\n",
    "3. Place the top element at its Correct Position using insertAtPlace Function.\n",
    "\n",
    "4. Inside Function: **insertAtPlace()**\n",
    "\n",
    "    1. If stack is empty place the passed element at bottom.\n",
    "\n",
    "    2. As we asked recursion to sort the remaining stack therefore the remaining stack is sorted, Hence if the top of stack is smaller than passed val then it is correct position for the val.\n",
    "\n",
    "    3. If top > val then we take out the top element. Ask recursion to place val in remaining stack.\n",
    "\n",
    "    4. After recursion placing the val at correct position we again place top of stack at top."
   ]
  },
  {
   "cell_type": "code",
   "execution_count": null,
   "metadata": {},
   "outputs": [],
   "source": [
    "class Solution:\n",
    "    \n",
    "    def inserAtPos(self,item):\n",
    "        \n",
    "        if(not self.arr or self.arr[-1] <= item):\n",
    "            self.arr.append(item)\n",
    "            return\n",
    "            \n",
    "        temp = self.arr.pop()\n",
    "        self.inserAtPos(item)\n",
    "        self.arr.append(temp)\n",
    "        \n",
    "        \n",
    "    def recSort(self):\n",
    "        \n",
    "        if(not self.arr): return\n",
    "        \n",
    "        if(len(self.arr) == 1): return \n",
    "        \n",
    "        item = self.arr.pop()\n",
    "        \n",
    "        self.recSort()\n",
    "        \n",
    "        self.inserAtPos(item)\n",
    "    \n",
    "    def Sorted(self, s):        \n",
    "        \n",
    "        self.arr = s\n",
    "        \n",
    "        self.recSort()\n",
    "        \n",
    "        s = self.arr"
   ]
  },
  {
   "cell_type": "markdown",
   "metadata": {},
   "source": [
    "#### **Using Heap : O(N^2logN)**"
   ]
  },
  {
   "cell_type": "code",
   "execution_count": null,
   "metadata": {},
   "outputs": [],
   "source": [
    "import heapq as hq\n",
    "\n",
    "class Solution:\n",
    "    def Sorted(self, s):\n",
    "        \n",
    "        arr = []\n",
    "        \n",
    "        while(s):\n",
    "            hq.heappush(arr,s.pop())\n",
    "            \n",
    "        \n",
    "        while(arr):\n",
    "            x = hq.heappop(arr)\n",
    "            s.append(x)\n",
    "            \n",
    "        return s"
   ]
  },
  {
   "cell_type": "markdown",
   "metadata": {},
   "source": [
    "## **901. Online Stock Span**\n",
    "\n",
    "### Algorithm : Monotonic Stack\n",
    "\n",
    "1. maintain (price, span) in stack\n",
    "2. then NGL\n"
   ]
  },
  {
   "cell_type": "code",
   "execution_count": null,
   "metadata": {},
   "outputs": [],
   "source": [
    "class StockSpanner:\n",
    "    \n",
    "    def __init__(self):\n",
    "        self.S = []\n",
    "    \n",
    "    def NGL(self,price):\n",
    "        span = 1\n",
    "        while(self.S and self.S[-1][0] <= price):\n",
    "            (_,sp) = self.S.pop()\n",
    "            span += sp \n",
    "\n",
    "        self.S.append((price,span))\n",
    "        return span\n",
    "\n",
    "    def next(self, price: int) -> int:\n",
    "        return self.NGL(price)"
   ]
  }
 ],
 "metadata": {
  "kernelspec": {
   "display_name": "Python 3",
   "language": "python",
   "name": "python3"
  },
  "language_info": {
   "codemirror_mode": {
    "name": "ipython",
    "version": 3
   },
   "file_extension": ".py",
   "mimetype": "text/x-python",
   "name": "python",
   "nbconvert_exporter": "python",
   "pygments_lexer": "ipython3",
   "version": "3.8.10"
  }
 },
 "nbformat": 4,
 "nbformat_minor": 2
}
