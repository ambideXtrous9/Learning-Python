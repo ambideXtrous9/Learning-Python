{
 "cells": [
  {
   "cell_type": "code",
   "execution_count": null,
   "metadata": {
    "vscode": {
     "languageId": "plaintext"
    }
   },
   "outputs": [],
   "source": [
    "class Solution(object):\n",
    "    def threeSum(self, nums):\n",
    "        \"\"\"\n",
    "        :type nums: List[int]\n",
    "        :rtype: List[List[int]]\n",
    "        \"\"\"\n",
    "\n",
    "        n = len(nums)\n",
    "\n",
    "        ans = set()\n",
    "\n",
    "        for i in range(n):\n",
    "\n",
    "            H = set()\n",
    "\n",
    "            for j in range(i+1,n):\n",
    "\n",
    "                third = (-(nums[i] + nums[j]))\n",
    "\n",
    "                if(third in H):\n",
    "\n",
    "                    temp = [nums[i],nums[j],third]\n",
    "\n",
    "                    temp.sort()\n",
    "\n",
    "                    ans.add(tuple(temp))\n",
    "\n",
    "                H.add(nums[j])\n",
    "\n",
    "        \n",
    "        return list(ans)\n",
    "\n",
    "\n",
    "\n",
    "\n",
    "        "
   ]
  }
 ],
 "metadata": {
  "language_info": {
   "name": "python"
  }
 },
 "nbformat": 4,
 "nbformat_minor": 2
}
