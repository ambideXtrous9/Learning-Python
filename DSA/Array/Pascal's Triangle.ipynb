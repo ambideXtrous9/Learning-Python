{
 "cells": [
  {
   "cell_type": "markdown",
   "metadata": {},
   "source": [
    "## **Binomial Coefficient**"
   ]
  },
  {
   "cell_type": "code",
   "execution_count": 12,
   "metadata": {},
   "outputs": [],
   "source": [
    "def binomialCoeff(n, k):\n",
    "     \n",
    "    if k > n:\n",
    "        return 0\n",
    "    if k == 0 or k == n:\n",
    "        return 1\n",
    " \n",
    "    # Recursive Call\n",
    "    return binomialCoeff(n-1, k-1) + binomialCoeff(n-1, k)"
   ]
  },
  {
   "cell_type": "code",
   "execution_count": 13,
   "metadata": {},
   "outputs": [
    {
     "name": "stdout",
     "output_type": "stream",
     "text": [
      "6\n"
     ]
    }
   ],
   "source": [
    "def binomialCoeff(n, k):\n",
    "    \n",
    "    dp = [[0]*(k+1) for _ in range(n+1)]\n",
    "    \n",
    "    for i in range(n+1):\n",
    "        \n",
    "        for j in range(k+1):\n",
    "            \n",
    "            if(j>i): dp[i][j] = 0\n",
    "            \n",
    "            elif(j==0 or j==i): \n",
    "                dp[i][j] = 1\n",
    "            \n",
    "            else:\n",
    "                \n",
    "                dp[i][j] = dp[i-1][j-1] + dp[i-1][j]\n",
    "    \n",
    "    return dp[n][k]\n",
    "\n",
    "n = 4\n",
    "r = 2\n",
    "nCr = binomialCoeff(n, r)\n",
    "print(nCr)                "
   ]
  },
  {
   "attachments": {
    "image.png": {
     "image/png": "[encoded data removed]"
    }
   },
   "cell_type": "markdown",
   "metadata": {},
   "source": [
    "## **118. Pascal's Triangle**\n",
    "\n",
    "![Pascal](https://upload.wikimedia.org/wikipedia/commons/0/0d/PascalTriangleAnimated2.gif)\n",
    "\n",
    "![image.png](attachment:image.png)\n",
    "\n",
    "1. This Can be solved as Recursion:\n",
    "\n",
    "2. So the Tabulation will be:"
   ]
  },
  {
   "cell_type": "code",
   "execution_count": null,
   "metadata": {},
   "outputs": [],
   "source": [
    "class Solution:\n",
    "    def generate(self, n: int):\n",
    "\n",
    "        res = []\n",
    "\n",
    "        for i in range(0,n):\n",
    "\n",
    "            temp = [1]*(i+1)\n",
    "\n",
    "            # start from 1 to i as\n",
    "            # 0-th and i-th index will always be 1\n",
    "            # So, we have to fill in between numbers in temp arr (1 to i-1) \n",
    "            \n",
    "            for j in range(1,i): \n",
    "\n",
    "                # using binomial Coefficient\n",
    "                # N = 5, means Upto 4\n",
    "\n",
    "                temp[j] = res[i-1][j-1] + res[i-1][j] \n",
    "            \n",
    "            res.append(temp)\n",
    "        \n",
    "        return res\n",
    "\n",
    "        "
   ]
  }
 ],
 "metadata": {
  "kernelspec": {
   "display_name": "Python 3",
   "language": "python",
   "name": "python3"
  },
  "language_info": {
   "codemirror_mode": {
    "name": "ipython",
    "version": 3
   },
   "file_extension": ".py",
   "mimetype": "text/x-python",
   "name": "python",
   "nbconvert_exporter": "python",
   "pygments_lexer": "ipython3",
   "version": "3.8.10"
  }
 },
 "nbformat": 4,
 "nbformat_minor": 2
}
