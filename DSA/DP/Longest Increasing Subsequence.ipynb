{
 "cells": [
  {
   "cell_type": "markdown",
   "metadata": {},
   "source": [
    "## **300. Longest Increasing Subsequence**\n",
    "\n",
    "### **Algorithm**\n",
    "\n",
    "**1. We shall calculate dp[i] where dp[i] = LIS till i**\n",
    "\n",
    "**2. by default dp[i] = 1, as every element is also a LIS of len = 1**"
   ]
  },
  {
   "cell_type": "code",
   "execution_count": null,
   "metadata": {},
   "outputs": [],
   "source": [
    "class Solution:\n",
    "    def lengthOfLIS(self, nums) -> int:\n",
    "        \n",
    "        n = len(nums)\n",
    "\n",
    "        res = float('-inf')\n",
    "\n",
    "        dp = [1]*(n+1)\n",
    "\n",
    "        for i in range(n):\n",
    "\n",
    "            for j in range(i):\n",
    "\n",
    "                if(nums[i] > nums[j]):\n",
    "\n",
    "                    dp[i] = max(dp[i], dp[j] + 1)\n",
    "                \n",
    "            res = max(res,dp[i])\n",
    "\n",
    "        return res"
   ]
  },
  {
   "cell_type": "markdown",
   "metadata": {},
   "source": [
    "## **Maximum sum increasing subsequence**\n",
    "\n",
    "**2. by default dp[i] = Arr[i], as every element is also a LI Sum of len = 1**"
   ]
  },
  {
   "cell_type": "code",
   "execution_count": null,
   "metadata": {},
   "outputs": [],
   "source": [
    "class Solution:\n",
    "    def maxSumIS(self, Arr, n):\n",
    "    \n",
    "        dp = Arr[:]\n",
    "        \n",
    "        n = len(Arr)\n",
    "        \n",
    "        res = float('-inf')\n",
    "        \n",
    "        for i in range(n):\n",
    "            \n",
    "            for j in range(i):\n",
    "                \n",
    "                if(Arr[i] > Arr[j]):\n",
    "                    \n",
    "                    dp[i] = max(Arr[i] + dp[j],dp[i])\n",
    "                    \n",
    "            res = max(res,dp[i])\n",
    "            \n",
    "        return res"
   ]
  }
 ],
 "metadata": {
  "language_info": {
   "name": "python"
  }
 },
 "nbformat": 4,
 "nbformat_minor": 2
}
