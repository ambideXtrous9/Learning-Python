{
 "cells": [
  {
   "cell_type": "markdown",
   "metadata": {},
   "source": [
    "## **322. Coin Change**"
   ]
  },
  {
   "cell_type": "code",
   "execution_count": null,
   "metadata": {},
   "outputs": [],
   "source": [
    "import math\n",
    "class Solution:\n",
    "\n",
    "    def ubks(self,coins,amount):\n",
    "\n",
    "        N = len(coins)\n",
    "\n",
    "        if amount == 0: return 0\n",
    "\n",
    "        dp = [[math.inf] * (amount+1) for _ in range(N+1)]\n",
    "\n",
    "        for i in range(N+1):\n",
    "\n",
    "            for j in range(amount+1):\n",
    "\n",
    "                if(j==0): dp[i][j] = 0\n",
    "\n",
    "                elif(i==0): dp[i][j] = math.inf\n",
    "\n",
    "                elif(coins[i-1] <= j):\n",
    "\n",
    "                    dp[i][j] = min(1 + dp[i][j-coins[i-1]], dp[i-1][j])\n",
    "\n",
    "                else:\n",
    "\n",
    "                    dp[i][j] = dp[i-1][j]\n",
    "\n",
    "        return -1 if (dp[N][amount]==math.inf) else dp[N][amount]\n",
    "\n",
    "\n",
    "    \n",
    "    def coinChange(self, coins, amount: int) -> int:\n",
    "\n",
    "        return self.ubks(coins,amount)\n",
    "        "
   ]
  },
  {
   "cell_type": "markdown",
   "metadata": {},
   "source": [
    "## **518. Coin Change II**"
   ]
  },
  {
   "cell_type": "code",
   "execution_count": null,
   "metadata": {},
   "outputs": [],
   "source": [
    "class Solution:\n",
    "    def change(self, amount: int, coins) -> int:\n",
    "\n",
    "        N = len(coins)\n",
    "\n",
    "        dp = [[0]*(amount+1) for _ in range(N+1)]\n",
    "\n",
    "        for i in range(N+1):\n",
    "            \n",
    "            for j in range(amount+1):\n",
    "\n",
    "                if(j == 0) : dp[i][j] = 1\n",
    "\n",
    "                elif(i == 0) : dp[i][j] = 0\n",
    "\n",
    "                elif(coins[i-1] <= j):\n",
    "\n",
    "                    dp[i][j] = dp[i][j-coins[i-1]] + dp[i-1][j]\n",
    "\n",
    "                else:\n",
    "\n",
    "                    dp[i][j] = dp[i-1][j]\n",
    "        \n",
    "        return dp[N][amount]"
   ]
  },
  {
   "cell_type": "markdown",
   "metadata": {},
   "source": [
    "## **39. Combination Sum**"
   ]
  },
  {
   "cell_type": "code",
   "execution_count": null,
   "metadata": {},
   "outputs": [],
   "source": [
    "class Solution:\n",
    "    \n",
    "    def ubks(self,N,T,temp):\n",
    "\n",
    "        if(T==0):\n",
    "\n",
    "            self.ans.append(temp)\n",
    "            return\n",
    "\n",
    "        elif(N==0): \n",
    "            return\n",
    "\n",
    "        elif(self.candidates[N-1] <= T):\n",
    "\n",
    "            self.ubks(N,T-self.candidates[N-1],temp+[self.candidates[N-1]])\n",
    "            \n",
    "            self.ubks(N-1,T,temp)\n",
    "\n",
    "        else:\n",
    "             \n",
    "            self.ubks(N-1,T,temp)\n",
    "\n",
    "    def combinationSum(self, candidates, target: int):\n",
    "\n",
    "\n",
    "        N = len(candidates)\n",
    "        T = target\n",
    "\n",
    "        self.candidates = candidates\n",
    "\n",
    "        self.ans = []\n",
    "        temp = []\n",
    "\n",
    "        self.ubks(N,T,temp)\n",
    "\n",
    "        return self.ans"
   ]
  }
 ],
 "metadata": {
  "language_info": {
   "name": "python"
  }
 },
 "nbformat": 4,
 "nbformat_minor": 2
}
