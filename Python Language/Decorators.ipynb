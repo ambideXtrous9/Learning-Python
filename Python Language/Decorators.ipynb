{
 "cells": [
  {
   "cell_type": "markdown",
   "metadata": {},
   "source": [
    "# **Decorators**"
   ]
  },
  {
   "cell_type": "markdown",
   "metadata": {},
   "source": [
    "#### Function inside a function"
   ]
  },
  {
   "cell_type": "code",
   "execution_count": 1,
   "metadata": {},
   "outputs": [
    {
     "name": "stdout",
     "output_type": "stream",
     "text": [
      "I am decorating function\n",
      "Hello World\n"
     ]
    }
   ],
   "source": [
    "def mydecorator(function):\n",
    "    \n",
    "    def wrapper():\n",
    "        print(\"I am decorating function\")\n",
    "        function()\n",
    "        \n",
    "    return wrapper\n",
    "\n",
    "\n",
    "def Hello():\n",
    "    print(\"Hello World\")\n",
    "    \n",
    "mydecorator(Hello)()  "
   ]
  },
  {
   "cell_type": "markdown",
   "metadata": {},
   "source": [
    "### **This can be done in python using Decorators**"
   ]
  },
  {
   "cell_type": "markdown",
   "metadata": {},
   "source": [
    "##### *1. Decorators are a very powerful and useful tool in Python* \n",
    "##### *2. It allows programmers to modify the behaviour of a function or class.* \n",
    "##### **3. Decorators allow us to wrap another function in order to extend the behaviour of the wrapped function, without permanently modifying it.**"
   ]
  },
  {
   "cell_type": "code",
   "execution_count": 3,
   "metadata": {},
   "outputs": [
    {
     "name": "stdout",
     "output_type": "stream",
     "text": [
      "I am decorating function\n",
      "Hello World\n"
     ]
    }
   ],
   "source": [
    "def mydecorator(function):\n",
    "    \n",
    "    def wrapper():\n",
    "        print(\"I am decorating function\")\n",
    "        function()\n",
    "        \n",
    "    return wrapper\n",
    "\n",
    "@mydecorator\n",
    "def Hello():\n",
    "    print(\"Hello World\")\n",
    "    \n",
    "Hello()"
   ]
  },
  {
   "cell_type": "markdown",
   "metadata": {},
   "source": [
    "#### **Function with Parameters**"
   ]
  },
  {
   "cell_type": "code",
   "execution_count": 10,
   "metadata": {},
   "outputs": [
    {
     "ename": "TypeError",
     "evalue": "wrapper() takes 0 positional arguments but 1 was given",
     "output_type": "error",
     "traceback": [
      "\u001b[0;31m---------------------------------------------------------------------------\u001b[0m",
      "\u001b[0;31mTypeError\u001b[0m                                 Traceback (most recent call last)",
      "Cell \u001b[0;32mIn[10], line 13\u001b[0m\n\u001b[1;32m      9\u001b[0m \u001b[38;5;129m@mydecorator\u001b[39m\n\u001b[1;32m     10\u001b[0m \u001b[38;5;28;01mdef\u001b[39;00m \u001b[38;5;21mHello\u001b[39m(name):\n\u001b[1;32m     11\u001b[0m     \u001b[38;5;28mprint\u001b[39m(\u001b[38;5;124m\"\u001b[39m\u001b[38;5;124mHello \u001b[39m\u001b[38;5;132;01m{name}\u001b[39;00m\u001b[38;5;124m\"\u001b[39m\u001b[38;5;241m.\u001b[39mformat(name\u001b[38;5;241m=\u001b[39mname))\n\u001b[0;32m---> 13\u001b[0m \u001b[43mHello\u001b[49m\u001b[43m(\u001b[49m\u001b[38;5;124;43m\"\u001b[39;49m\u001b[38;5;124;43mLord\u001b[39;49m\u001b[38;5;124;43m\"\u001b[39;49m\u001b[43m)\u001b[49m\n",
      "\u001b[0;31mTypeError\u001b[0m: wrapper() takes 0 positional arguments but 1 was given"
     ]
    }
   ],
   "source": [
    "def mydecorator(function):\n",
    "    \n",
    "    def wrapper():\n",
    "        print(\"I am decorating function\")\n",
    "        function()\n",
    "        \n",
    "    return wrapper\n",
    "\n",
    "@mydecorator\n",
    "def Hello(name):\n",
    "    print(\"Hello {name}\".format(name=name))\n",
    "    \n",
    "Hello(\"Lord\")"
   ]
  },
  {
   "cell_type": "code",
   "execution_count": 11,
   "metadata": {},
   "outputs": [
    {
     "name": "stdout",
     "output_type": "stream",
     "text": [
      "I am decorating function\n",
      "Hello Lord\n"
     ]
    }
   ],
   "source": [
    "def mydecorator(function):\n",
    "    \n",
    "    def wrapper(*args, **kwargs):\n",
    "        print(\"I am decorating function\")\n",
    "        function(*args, **kwargs)\n",
    "        \n",
    "    return wrapper\n",
    "\n",
    "@mydecorator\n",
    "def Hello(name):\n",
    "    print(\"Hello {name}\".format(name=name))\n",
    "    \n",
    "Hello(\"Lord\")"
   ]
  },
  {
   "cell_type": "markdown",
   "metadata": {},
   "source": [
    "### **Function with return**"
   ]
  },
  {
   "cell_type": "code",
   "execution_count": 12,
   "metadata": {},
   "outputs": [
    {
     "name": "stdout",
     "output_type": "stream",
     "text": [
      "I am decorating function\n",
      "None\n"
     ]
    }
   ],
   "source": [
    "def mydecorator(function):\n",
    "    \n",
    "    def wrapper(*args, **kwargs):\n",
    "        print(\"I am decorating function\")\n",
    "        function(*args, **kwargs)\n",
    "        \n",
    "    return wrapper\n",
    "\n",
    "@mydecorator\n",
    "def Hello(name):\n",
    "    return (\"Hello {name}\".format(name=name))\n",
    "    \n",
    "print(Hello(\"Lord\"))"
   ]
  },
  {
   "cell_type": "markdown",
   "metadata": {},
   "source": [
    "Inside wrapper function it does not return anything, so the Second output\n",
    "is 'None'"
   ]
  },
  {
   "cell_type": "code",
   "execution_count": 13,
   "metadata": {},
   "outputs": [
    {
     "name": "stdout",
     "output_type": "stream",
     "text": [
      "I am decorating function\n",
      "Hello Lord\n"
     ]
    }
   ],
   "source": [
    "def mydecorator(function):\n",
    "    \n",
    "    def wrapper(*args, **kwargs):\n",
    "        print(\"I am decorating function\")\n",
    "        return function(*args, **kwargs)\n",
    "        \n",
    "    return wrapper\n",
    "\n",
    "@mydecorator\n",
    "def Hello(name):\n",
    "    return (\"Hello {name}\".format(name=name))\n",
    "    \n",
    "print(Hello(\"Lord\"))"
   ]
  },
  {
   "cell_type": "code",
   "execution_count": 14,
   "metadata": {},
   "outputs": [
    {
     "name": "stdout",
     "output_type": "stream",
     "text": [
      "I am decorating function\n",
      "Hello Lord\n"
     ]
    }
   ],
   "source": [
    "def mydecorator(function):\n",
    "    \n",
    "    def wrapper(*args, **kwargs):\n",
    "        fn = function(*args, **kwargs)\n",
    "        print(\"I am decorating function\")\n",
    "        return fn\n",
    "        \n",
    "    return wrapper\n",
    "\n",
    "@mydecorator\n",
    "def Hello(name):\n",
    "    return (\"Hello {name}\".format(name=name))\n",
    "    \n",
    "print(Hello(\"Lord\"))"
   ]
  },
  {
   "cell_type": "markdown",
   "metadata": {},
   "source": [
    "### Example 1:"
   ]
  },
  {
   "cell_type": "code",
   "execution_count": 20,
   "metadata": {},
   "outputs": [
    {
     "name": "stdout",
     "output_type": "stream",
     "text": [
      "I am BEFORE decorating function \n",
      "Hello Lord\n",
      "I am AFTER decorating function \n"
     ]
    }
   ],
   "source": [
    "def mydecorator(function):\n",
    "    \n",
    "    def wrapper(*args, **kwargs):\n",
    "        print(\"I am BEFORE decorating function \")\n",
    "        function(*args, **kwargs)\n",
    "        print(\"I am AFTER decorating function \")\n",
    "        \n",
    "        \n",
    "    return wrapper\n",
    "\n",
    "@mydecorator\n",
    "def Hello(name):\n",
    "    print(\"Hello {name}\".format(name=name))\n",
    "    \n",
    "Hello(\"Lord\")"
   ]
  },
  {
   "cell_type": "markdown",
   "metadata": {},
   "source": [
    "### Example 2: Factorial Time"
   ]
  },
  {
   "cell_type": "code",
   "execution_count": 22,
   "metadata": {},
   "outputs": [
    {
     "name": "stdout",
     "output_type": "stream",
     "text": [
      "3628800\n",
      "Total Execution Time = 5.00389838218689\n"
     ]
    }
   ],
   "source": [
    "import time\n",
    "import math\n",
    "\n",
    "def cal_time(function):\n",
    "    \n",
    "    def wrapper(*args,**kwargs):\n",
    "        start = time.time()\n",
    "        \n",
    "        function(*args,**kwargs)\n",
    "        \n",
    "        end = time.time()\n",
    "        \n",
    "        print(f\"Total Execution Time = {end-start}\")\n",
    "    \n",
    "    return wrapper\n",
    "\n",
    "@cal_time\n",
    "def facto(n):\n",
    "    time.sleep(5)\n",
    "    print(math.factorial(n))\n",
    "    \n",
    "facto(10)"
   ]
  },
  {
   "cell_type": "code",
   "execution_count": null,
   "metadata": {},
   "outputs": [],
   "source": []
  }
 ],
 "metadata": {
  "kernelspec": {
   "display_name": "Python 3",
   "language": "python",
   "name": "python3"
  },
  "language_info": {
   "codemirror_mode": {
    "name": "ipython",
    "version": 3
   },
   "file_extension": ".py",
   "mimetype": "text/x-python",
   "name": "python",
   "nbconvert_exporter": "python",
   "pygments_lexer": "ipython3",
   "version": "3.8.10"
  }
 },
 "nbformat": 4,
 "nbformat_minor": 2
}
