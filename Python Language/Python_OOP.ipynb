{
  "cells": [
    {
      "cell_type": "markdown",
      "metadata": {
        "id": "MwC6D8Zj9413"
      },
      "source": [
        "# **Class :** A class is a user-defined ***blueprint*** or ***prototype*** from which ***objects*** are created.\n",
        "\n",
        "\n",
        "<center> <img src = \"https://www.learnbyexample.org/wp-content/uploads/python/Class-Object-Illustration.png\"/></center>\n",
        "\n",
        "\n"
      ]
    },
    {
      "cell_type": "markdown",
      "metadata": {
        "id": "xOiMZ-WiBZI_"
      },
      "source": [
        "# 1. How can we create a class ?\n",
        "\n",
        "## Template :\n",
        "\n",
        "Define Class:\n",
        "```python\n",
        "class ClassName:\n",
        "  pass\n",
        "```\n",
        "Create Object:\n",
        "\n",
        "```python\n",
        "objName = ClassName()\n",
        "```"
      ]
    },
    {
      "cell_type": "code",
      "execution_count": 1,
      "metadata": {
        "id": "8XNLXGiZBYPt"
      },
      "outputs": [],
      "source": [
        "class Car:\n",
        "  pass"
      ]
    },
    {
      "cell_type": "code",
      "execution_count": 2,
      "metadata": {
        "id": "Czg4ctt_9f-W"
      },
      "outputs": [],
      "source": [
        "honda = Car()"
      ]
    },
    {
      "cell_type": "markdown",
      "metadata": {
        "id": "Rg0QOZrPCsmX"
      },
      "source": [
        "# **Properties of Class:**\n",
        "\n",
        "\n",
        "*   **Atrributes** -> Variables\n",
        "*   **Behaviour**  -> Methods or Member Functions\n",
        "\n",
        "These 2 things describes a particular class"
      ]
    },
    {
      "cell_type": "markdown",
      "metadata": {
        "id": "b6WGmkWt9inW"
      },
      "source": [
        "<left> <img src = \"https://arjunsalyan.com/images/posts/oops-methods-attr.png\"/></left>"
      ]
    },
    {
      "cell_type": "code",
      "execution_count": 3,
      "metadata": {
        "id": "JMBoNjHdDTV_"
      },
      "outputs": [],
      "source": [
        "honda.name = \"City\"\n",
        "honda.mileage = 19.4\n",
        "honda.ctype = \"Sedan\" "
      ]
    },
    {
      "cell_type": "markdown",
      "metadata": {
        "id": "8QMR_egvGr4G"
      },
      "source": [
        "# Is this the correct way to add attributes ?\n",
        "## - No, because we want these properties and functionalities to be present inside the class.\n",
        "\n",
        "## - So that when an object is created, they already have these.   \n",
        "\n",
        "# So what we need for that ?\n",
        "# **Constructor**\n",
        "\n",
        "*  __init__() : this is called **constructor** function. when an object is created then this function is called.\n",
        "\n",
        "\n"
      ]
    },
    {
      "cell_type": "code",
      "execution_count": 4,
      "metadata": {
        "id": "MjBr13bWQtr4"
      },
      "outputs": [],
      "source": [
        "class Car:\n",
        "  def __init__(self):\n",
        "    print(\"Default Constructor is Called\")\n",
        "  "
      ]
    },
    {
      "cell_type": "code",
      "execution_count": 5,
      "metadata": {
        "colab": {
          "base_uri": "https://localhost:8080/"
        },
        "id": "dsLP3raBa7S0",
        "outputId": "624980bd-c2a9-46ea-90d0-effd4036b7fe"
      },
      "outputs": [
        {
          "name": "stdout",
          "output_type": "stream",
          "text": [
            "Default Constructor is Called\n"
          ]
        }
      ],
      "source": [
        "honda = Car()"
      ]
    },
    {
      "cell_type": "markdown",
      "metadata": {
        "id": "c5IWRlwYQn-T"
      },
      "source": [
        "## ***self***\n",
        "*   self stores the **address of the current object**\n"
      ]
    },
    {
      "cell_type": "code",
      "execution_count": 6,
      "metadata": {
        "id": "0QOxSbw-OfOp"
      },
      "outputs": [],
      "source": [
        "class Car:\n",
        "  def __init__(self):\n",
        "    print(self)"
      ]
    },
    {
      "cell_type": "code",
      "execution_count": 7,
      "metadata": {
        "colab": {
          "base_uri": "https://localhost:8080/"
        },
        "id": "ZaBwHYzYTJWG",
        "outputId": "cf930ec3-f9c8-4afd-d3c5-ff828f39a0d3"
      },
      "outputs": [
        {
          "name": "stdout",
          "output_type": "stream",
          "text": [
            "<__main__.Car object at 0x7fa16bb8b6d0>\n"
          ]
        }
      ],
      "source": [
        "honda = Car()"
      ]
    },
    {
      "cell_type": "code",
      "execution_count": 8,
      "metadata": {
        "colab": {
          "base_uri": "https://localhost:8080/"
        },
        "id": "9EPf8fN_TSBY",
        "outputId": "452b66b2-8e5b-40fa-9dc4-e4a67185d9f3"
      },
      "outputs": [
        {
          "name": "stdout",
          "output_type": "stream",
          "text": [
            "<__main__.Car object at 0x7fa16bb8b6d0>\n"
          ]
        }
      ],
      "source": [
        "print(honda)"
      ]
    },
    {
      "cell_type": "markdown",
      "metadata": {
        "id": "-5JNCEOlKzT2"
      },
      "source": [
        "## ***__init__()***\n",
        "\n",
        "* if we do not create our own constructor, there is a **Default Constructor** which will be called. It does not take any argument.\n",
        "* we create our own constructor(**User Defined**) having multiple arguments. It is called ***Parameterized Constructor***\n",
        "* If we create our own constructor then Default constructor got replaced.\n",
        "\n",
        "\n"
      ]
    },
    {
      "cell_type": "code",
      "execution_count": 9,
      "metadata": {
        "id": "uvRIGxJns9VQ"
      },
      "outputs": [],
      "source": [
        "class Car:\n",
        "  def __init__(self,brand,name,mile,types):\n",
        "    self.brand = brand\n",
        "    self.model = name\n",
        "    self.mile = mile\n",
        "    self.types = types\n",
        "    \n",
        "  def showCar(self):\n",
        "    print(\"Brand = \",self.brand)\n",
        "    print(\"Model = \",self.model)\n",
        "    print(\"Mileage = \",self.mile)\n",
        "    print(\"Type = \",self.types)"
      ]
    },
    {
      "cell_type": "code",
      "execution_count": 10,
      "metadata": {
        "colab": {
          "base_uri": "https://localhost:8080/",
          "height": 166
        },
        "id": "QLVQRx2HQzWi",
        "outputId": "5a07ea7b-af3c-4a32-9291-93184784fc45"
      },
      "outputs": [
        {
          "ename": "TypeError",
          "evalue": "__init__() missing 4 required positional arguments: 'brand', 'name', 'mile', and 'types'",
          "output_type": "error",
          "traceback": [
            "\u001b[0;31m---------------------------------------------------------------------------\u001b[0m",
            "\u001b[0;31mTypeError\u001b[0m                                 Traceback (most recent call last)",
            "Cell \u001b[0;32mIn[10], line 1\u001b[0m\n\u001b[0;32m----> 1\u001b[0m honda \u001b[38;5;241m=\u001b[39m \u001b[43mCar\u001b[49m\u001b[43m(\u001b[49m\u001b[43m)\u001b[49m\n",
            "\u001b[0;31mTypeError\u001b[0m: __init__() missing 4 required positional arguments: 'brand', 'name', 'mile', and 'types'"
          ]
        }
      ],
      "source": [
        "honda = Car()"
      ]
    },
    {
      "cell_type": "code",
      "execution_count": 11,
      "metadata": {
        "id": "TNaA2HRWtTd4"
      },
      "outputs": [],
      "source": [
        "honda = Car('Honda','City',18,'Sedan')"
      ]
    },
    {
      "cell_type": "code",
      "execution_count": 12,
      "metadata": {
        "colab": {
          "base_uri": "https://localhost:8080/"
        },
        "id": "LckWQUHutVZ6",
        "outputId": "9b028d1d-661a-4fce-93bf-7cfcd5802f7d"
      },
      "outputs": [
        {
          "name": "stdout",
          "output_type": "stream",
          "text": [
            "Brand =  Honda\n",
            "Model =  City\n",
            "Mileage =  18\n",
            "Type =  Sedan\n"
          ]
        }
      ],
      "source": [
        "honda.showCar()"
      ]
    },
    {
      "cell_type": "markdown",
      "metadata": {
        "id": "hALSC3BcpVIN"
      },
      "source": [
        "# **Accessor and Mutator**\n",
        "\n",
        "\n",
        "## Methods that are used to get and set the attribute values\n",
        "\n",
        "*   **Accessor** -> Getter\n",
        "*   **Mutator**  -> Setter\n",
        "\n"
      ]
    },
    {
      "cell_type": "code",
      "execution_count": 13,
      "metadata": {
        "id": "9i0fDYNTqNym"
      },
      "outputs": [],
      "source": [
        "class Car:\n",
        "    \n",
        "  brand = None\n",
        "  model = None\n",
        "  mile = None\n",
        "  types = None\n",
        "\n",
        "  def __init__(self):\n",
        "    print(\"Constructor Called\")\n",
        "\n",
        "  def setBrand(self,brand):\n",
        "    self.brand = brand\n",
        "  \n",
        "  def setModel(self,model):\n",
        "    self.model = model\n",
        "  \n",
        "  def setMile(self,mile):\n",
        "    self.mile = mile\n",
        "\n",
        "  def setType(self,types):\n",
        "    self.types = types\n",
        "\n",
        "  def getBrand(self):\n",
        "    print(\"Brand = \",self.brand)\n",
        "  \n",
        "  def getModel(self):\n",
        "    print(\"Model = \",self.model)\n",
        "  \n",
        "  def getMile(self):\n",
        "    print(\"Mileage = \",self.mile)\n",
        "\n",
        "  def getType(self):\n",
        "    print(\"Type = \",self.types)"
      ]
    },
    {
      "cell_type": "code",
      "execution_count": 14,
      "metadata": {
        "colab": {
          "base_uri": "https://localhost:8080/"
        },
        "id": "BJjKlTcksARE",
        "outputId": "c4973046-bf05-4429-c135-54f028f6267c"
      },
      "outputs": [
        {
          "name": "stdout",
          "output_type": "stream",
          "text": [
            "Constructor Called\n"
          ]
        }
      ],
      "source": [
        "honda = Car()"
      ]
    },
    {
      "cell_type": "code",
      "execution_count": 15,
      "metadata": {
        "colab": {
          "base_uri": "https://localhost:8080/"
        },
        "id": "1JdXS-qqtynj",
        "outputId": "c03f8a47-fa0f-419e-97a4-adad1c228898"
      },
      "outputs": [
        {
          "name": "stdout",
          "output_type": "stream",
          "text": [
            "Model =  None\n"
          ]
        }
      ],
      "source": [
        "honda.getModel()"
      ]
    },
    {
      "cell_type": "code",
      "execution_count": 16,
      "metadata": {
        "id": "teSov7YJt7GQ"
      },
      "outputs": [],
      "source": [
        "honda.setModel('Jazz')"
      ]
    },
    {
      "cell_type": "code",
      "execution_count": 17,
      "metadata": {
        "colab": {
          "base_uri": "https://localhost:8080/"
        },
        "id": "XMAHf4DruKEL",
        "outputId": "bbe1c443-48b2-4193-c74b-6484f10e90dc"
      },
      "outputs": [
        {
          "name": "stdout",
          "output_type": "stream",
          "text": [
            "Model =  Jazz\n"
          ]
        }
      ],
      "source": [
        "honda.getModel()"
      ]
    },
    {
      "cell_type": "markdown",
      "metadata": {
        "id": "UgnXdnq71bsg"
      },
      "source": [
        "# **Default Parameters and Assert**\n",
        "\n",
        "## Default Parameters\n",
        "\n"
      ]
    },
    {
      "cell_type": "code",
      "execution_count": 18,
      "metadata": {
        "id": "luI2GTss1jzj"
      },
      "outputs": [],
      "source": [
        "class Car:\n",
        "  def __init__(self,brand,name,mile,types,cyl=4):\n",
        "    self.brand = brand\n",
        "    self.model = name\n",
        "    self.mile = mile\n",
        "    self.types = types\n",
        "    self.cyl = cyl\n",
        "    \n",
        "  def showCar(self):\n",
        "    print(\"Brand = \",self.brand)\n",
        "    print(\"Model = \",self.model)\n",
        "    print(\"Mileage = \",self.mile)\n",
        "    print(\"Type = \",self.types)\n",
        "    print(\"Cylinder = \",self.cyl)\n",
        "  \n",
        "  def fuelCost(self):\n",
        "    print(\"Fuel Cost = \",self.mile*100) "
      ]
    },
    {
      "cell_type": "code",
      "execution_count": 19,
      "metadata": {
        "id": "NHBPsdp32K-Y"
      },
      "outputs": [],
      "source": [
        "honda = Car('Honda',\"City\",18,'Sedan')"
      ]
    },
    {
      "cell_type": "code",
      "execution_count": 20,
      "metadata": {
        "colab": {
          "base_uri": "https://localhost:8080/"
        },
        "id": "CyTDB9hx3zij",
        "outputId": "28433ac8-b44d-4836-fc76-f1d980e309e7"
      },
      "outputs": [
        {
          "name": "stdout",
          "output_type": "stream",
          "text": [
            "Brand =  Honda\n",
            "Model =  City\n",
            "Mileage =  18\n",
            "Type =  Sedan\n",
            "Cylinder =  4\n"
          ]
        }
      ],
      "source": [
        "honda.showCar()"
      ]
    },
    {
      "cell_type": "code",
      "execution_count": 21,
      "metadata": {
        "id": "-d661HuN2Tt1"
      },
      "outputs": [],
      "source": [
        "abc = Car('Honda','City',15.62,'Sedan',3)"
      ]
    },
    {
      "cell_type": "code",
      "execution_count": 22,
      "metadata": {
        "colab": {
          "base_uri": "https://localhost:8080/"
        },
        "id": "eKIRMbxL2W0a",
        "outputId": "e658d313-b69c-45f5-e8a6-28f82c006553"
      },
      "outputs": [
        {
          "name": "stdout",
          "output_type": "stream",
          "text": [
            "Fuel Cost =  1562.0\n"
          ]
        }
      ],
      "source": [
        "abc.fuelCost()"
      ]
    },
    {
      "cell_type": "code",
      "execution_count": 23,
      "metadata": {
        "colab": {
          "base_uri": "https://localhost:8080/"
        },
        "id": "t_bPs6LE3RML",
        "outputId": "aeee30a1-ab7a-4e82-e233-fd03419170ff"
      },
      "outputs": [
        {
          "name": "stdout",
          "output_type": "stream",
          "text": [
            "Brand =  Honda\n",
            "Model =  City\n",
            "Mileage =  15.62\n",
            "Type =  Sedan\n",
            "Cylinder =  3\n"
          ]
        }
      ],
      "source": [
        "abc.showCar()"
      ]
    },
    {
      "cell_type": "markdown",
      "metadata": {
        "id": "PiRc7hsd43YN"
      },
      "source": [
        "## Assert"
      ]
    },
    {
      "cell_type": "code",
      "execution_count": 24,
      "metadata": {
        "id": "zKl7OJR34z1d"
      },
      "outputs": [],
      "source": [
        "class Car:\n",
        "  def __init__(self,brand,name,mile,types,cyl):\n",
        "    \n",
        "    assert mile > 10, f\"Mileage must be more than 10 kmpl\" \n",
        "    assert cyl > 2 , f\"No.of Cylinder must be greater than\"\n",
        "\n",
        "    self.brand = brand\n",
        "    self.model = name\n",
        "    self.mile = mile\n",
        "    self.types = types\n",
        "    self.cyl = cyl\n",
        "    \n",
        "  def showCar(self):\n",
        "    print(\"Brand = \",self.brand)\n",
        "    print(\"Model = \",self.model)\n",
        "    print(\"Mileage = \",self.mile)\n",
        "    print(\"Type = \",self.types)\n",
        "    print(\"Cylinder = \",self.cyl)\n",
        "  \n",
        "  def fuelCost(self):\n",
        "    print(\"Fuel Cost = \",self.mile*100) "
      ]
    },
    {
      "cell_type": "code",
      "execution_count": 25,
      "metadata": {
        "colab": {
          "base_uri": "https://localhost:8080/",
          "height": 287
        },
        "id": "toWEWHqh5hXQ",
        "outputId": "84838f69-40c1-4006-a59e-6bcab6bbaab1"
      },
      "outputs": [
        {
          "ename": "AssertionError",
          "evalue": "Mileage must be more than 10 kmpl",
          "output_type": "error",
          "traceback": [
            "\u001b[0;31m---------------------------------------------------------------------------\u001b[0m",
            "\u001b[0;31mAssertionError\u001b[0m                            Traceback (most recent call last)",
            "Cell \u001b[0;32mIn[25], line 1\u001b[0m\n\u001b[0;32m----> 1\u001b[0m abc \u001b[38;5;241m=\u001b[39m \u001b[43mCar\u001b[49m\u001b[43m(\u001b[49m\u001b[38;5;124;43m'\u001b[39;49m\u001b[38;5;124;43mHonda\u001b[39;49m\u001b[38;5;124;43m'\u001b[39;49m\u001b[43m,\u001b[49m\u001b[38;5;124;43m'\u001b[39;49m\u001b[38;5;124;43mCity\u001b[39;49m\u001b[38;5;124;43m'\u001b[39;49m\u001b[43m,\u001b[49m\u001b[38;5;241;43m9\u001b[39;49m\u001b[43m,\u001b[49m\u001b[38;5;124;43m'\u001b[39;49m\u001b[38;5;124;43mSedan\u001b[39;49m\u001b[38;5;124;43m'\u001b[39;49m\u001b[43m,\u001b[49m\u001b[38;5;241;43m2\u001b[39;49m\u001b[43m)\u001b[49m\n",
            "Cell \u001b[0;32mIn[24], line 4\u001b[0m, in \u001b[0;36mCar.__init__\u001b[0;34m(self, brand, name, mile, types, cyl)\u001b[0m\n\u001b[1;32m      2\u001b[0m \u001b[38;5;28;01mdef\u001b[39;00m \u001b[38;5;21m__init__\u001b[39m(\u001b[38;5;28mself\u001b[39m,brand,name,mile,types,cyl):\n\u001b[0;32m----> 4\u001b[0m   \u001b[38;5;28;01massert\u001b[39;00m mile \u001b[38;5;241m>\u001b[39m \u001b[38;5;241m10\u001b[39m, \u001b[38;5;124mf\u001b[39m\u001b[38;5;124m\"\u001b[39m\u001b[38;5;124mMileage must be more than 10 kmpl\u001b[39m\u001b[38;5;124m\"\u001b[39m \n\u001b[1;32m      5\u001b[0m   \u001b[38;5;28;01massert\u001b[39;00m cyl \u001b[38;5;241m>\u001b[39m \u001b[38;5;241m2\u001b[39m , \u001b[38;5;124mf\u001b[39m\u001b[38;5;124m\"\u001b[39m\u001b[38;5;124mNo.of Cylinder must be greater than\u001b[39m\u001b[38;5;124m\"\u001b[39m\n\u001b[1;32m      7\u001b[0m   \u001b[38;5;28mself\u001b[39m\u001b[38;5;241m.\u001b[39mbrand \u001b[38;5;241m=\u001b[39m brand\n",
            "\u001b[0;31mAssertionError\u001b[0m: Mileage must be more than 10 kmpl"
          ]
        }
      ],
      "source": [
        "abc = Car('Honda','City',9,'Sedan',2)"
      ]
    },
    {
      "cell_type": "markdown",
      "metadata": {
        "id": "-f8AkvuE7Lcb"
      },
      "source": [
        "# **Access Modifiers**"
      ]
    },
    {
      "cell_type": "markdown",
      "metadata": {
        "id": "DNb-kt-P9b_I"
      },
      "source": [
        "<left> <img src = \"https://scaler.com/topics/images/access-specifiers-in-python-encapsulation-1024x590.webp\"/></left>"
      ]
    },
    {
      "cell_type": "markdown",
      "metadata": {
        "id": "kUjoE4a88iG4"
      },
      "source": [
        "## **Template**"
      ]
    },
    {
      "cell_type": "markdown",
      "metadata": {
        "id": "8QWQW7gN_0Zk"
      },
      "source": [
        "### Public\n",
        "\n",
        "```python\n",
        "\n",
        "class ClassName:\n",
        "  name = None  \n",
        "  roll = None\n",
        "  sec = None\n",
        "\n",
        "```\n",
        "\n",
        "or\n",
        "\n",
        "```python\n",
        "\n",
        "class ClassName:\n",
        "  def __init__(self,name,roll,sec):\n",
        "    self.name = None\n",
        "    self.roll = None\n",
        "    self.sec = None\n",
        "\n",
        "```"
      ]
    },
    {
      "cell_type": "code",
      "execution_count": null,
      "metadata": {
        "id": "JE_iPSC8_6Uq"
      },
      "outputs": [],
      "source": [
        "class Car:\n",
        "  def __init__(self,brand,name,mile,types):\n",
        "    self.brand = brand\n",
        "    self.model = name\n",
        "    self.mile = mile\n",
        "    self.types = types\n",
        "    \n",
        "  def showCar(self):\n",
        "    print(\"Brand = \",self.brand)\n",
        "    print(\"Model = \",self.model)\n",
        "    print(\"Mileage = \",self.mile)\n",
        "    print(\"Type = \",self.types)"
      ]
    },
    {
      "cell_type": "code",
      "execution_count": null,
      "metadata": {
        "id": "uedW09ZWACAx"
      },
      "outputs": [],
      "source": [
        "honda = Car('Honda','City',18,'Sedan')"
      ]
    },
    {
      "cell_type": "code",
      "execution_count": null,
      "metadata": {
        "colab": {
          "base_uri": "https://localhost:8080/"
        },
        "id": "xD13V5SRACxt",
        "outputId": "c8ea78ae-e8c9-4cfc-f5e2-7e47d9399ac1"
      },
      "outputs": [
        {
          "name": "stdout",
          "output_type": "stream",
          "text": [
            "Brand =  Honda\n",
            "Model =  City\n",
            "Mileage =  18\n",
            "Type =  Sedan\n"
          ]
        }
      ],
      "source": [
        "honda.showCar()"
      ]
    },
    {
      "cell_type": "code",
      "execution_count": null,
      "metadata": {
        "id": "MPPtOOSKAFPR"
      },
      "outputs": [],
      "source": [
        "honda.model = 'Jazz'"
      ]
    },
    {
      "cell_type": "code",
      "execution_count": null,
      "metadata": {
        "colab": {
          "base_uri": "https://localhost:8080/"
        },
        "id": "8iNMwD3cAJtq",
        "outputId": "2e8d8c86-3579-4e10-ef9d-bd00e5d54795"
      },
      "outputs": [
        {
          "name": "stdout",
          "output_type": "stream",
          "text": [
            "Brand =  Honda\n",
            "Model =  Jazz\n",
            "Mileage =  18\n",
            "Type =  Sedan\n"
          ]
        }
      ],
      "source": [
        "honda.showCar()"
      ]
    },
    {
      "cell_type": "code",
      "execution_count": null,
      "metadata": {
        "id": "xNf3jw3SAMMj"
      },
      "outputs": [],
      "source": []
    },
    {
      "cell_type": "markdown",
      "metadata": {
        "id": "iZd_Fk6P-OXw"
      },
      "source": [
        "### Protected\n",
        "\n",
        "To make an instance variable or method **Protected**, the convention is to prefix the name with a ***single underscore _***\n",
        "\n",
        "```python\n",
        "\n",
        "class ClassName:\n",
        "  _name = None  \n",
        "  _roll = None\n",
        "  _sec = None\n",
        "\n",
        "```\n",
        "\n",
        "or\n",
        "\n",
        "```python\n",
        "\n",
        "class ClassName:\n",
        "  def __init__(self,name,roll,sec):\n",
        "    self._name = None\n",
        "    self._roll = None\n",
        "    self._sec = None\n",
        "\n",
        "```"
      ]
    },
    {
      "cell_type": "code",
      "execution_count": null,
      "metadata": {
        "id": "XC5LN7ml-Ya-"
      },
      "outputs": [],
      "source": [
        "class Car:\n",
        "  def __init__(self,brand,name,mile,types):\n",
        "    self._brand = brand\n",
        "    self._model = name\n",
        "    self._mile = mile\n",
        "    self._types = types\n",
        "    \n",
        "  def showCar(self):\n",
        "    print(\"Brand = \",self._brand)\n",
        "    print(\"Model = \",self._model)\n",
        "    print(\"Mileage = \",self._mile)\n",
        "    print(\"Type = \",self._types)"
      ]
    },
    {
      "cell_type": "code",
      "execution_count": null,
      "metadata": {
        "id": "IbWrxxk8-rvv"
      },
      "outputs": [],
      "source": [
        "honda = Car('Honda','City',18,'Sedan')"
      ]
    },
    {
      "cell_type": "code",
      "execution_count": null,
      "metadata": {
        "colab": {
          "base_uri": "https://localhost:8080/"
        },
        "id": "ZzJkzrdX_K1v",
        "outputId": "2f3c5237-c15d-46ea-cf5a-7d2f08442438"
      },
      "outputs": [
        {
          "name": "stdout",
          "output_type": "stream",
          "text": [
            "Brand =  Honda\n",
            "Model =  City\n",
            "Mileage =  18\n",
            "Type =  Sedan\n"
          ]
        }
      ],
      "source": [
        "honda.showCar()"
      ]
    },
    {
      "cell_type": "code",
      "execution_count": null,
      "metadata": {
        "colab": {
          "base_uri": "https://localhost:8080/"
        },
        "id": "hiwFfn61_YEQ",
        "outputId": "f17633f8-fe7c-486c-aa4b-19d2dc963ec0"
      },
      "outputs": [
        {
          "data": {
            "text/plain": [
              "18"
            ]
          },
          "execution_count": 131,
          "metadata": {},
          "output_type": "execute_result"
        }
      ],
      "source": [
        "honda._mile"
      ]
    },
    {
      "cell_type": "code",
      "execution_count": null,
      "metadata": {
        "id": "CxwghZ8yAO2_"
      },
      "outputs": [],
      "source": [
        "honda._mile = 20"
      ]
    },
    {
      "cell_type": "markdown",
      "metadata": {
        "id": "VsqPZJGCBEKU"
      },
      "source": [
        "***What did happen here ?***\n",
        "\n",
        "**Ans** - protected: can be accessed but ***not advised***"
      ]
    },
    {
      "cell_type": "code",
      "execution_count": null,
      "metadata": {
        "colab": {
          "base_uri": "https://localhost:8080/"
        },
        "id": "nhUPysw6ASoQ",
        "outputId": "e118fcd9-af39-436f-de55-557dfa638dae"
      },
      "outputs": [
        {
          "name": "stdout",
          "output_type": "stream",
          "text": [
            "Brand =  Honda\n",
            "Model =  City\n",
            "Mileage =  20\n",
            "Type =  Sedan\n"
          ]
        }
      ],
      "source": [
        "honda.showCar()"
      ]
    },
    {
      "cell_type": "markdown",
      "metadata": {
        "id": "Hxb4pqZu-fgl"
      },
      "source": [
        "### Private\n",
        "\n",
        "To make an instance variable or method **Private**, the convention is to prefix the name with a ***double underscore __***\n",
        "\n",
        "```python\n",
        "class ClassName:\n",
        "  __name = None  \n",
        "  __roll = None\n",
        "  __sec = None\n",
        "\n",
        "```\n",
        "\n",
        "or\n",
        "\n",
        "```python\n",
        "class ClassName:\n",
        "  def __init__(self,name,roll,sec):\n",
        "    self.__name = None\n",
        "    self.__roll = None\n",
        "    self.__sec = None\n",
        "```"
      ]
    },
    {
      "cell_type": "code",
      "execution_count": null,
      "metadata": {
        "id": "vNU8_7Wk7PCa"
      },
      "outputs": [],
      "source": [
        "class Car:\n",
        "  def __init__(self,brand,name,mile,types):\n",
        "    self.__brand = brand\n",
        "    self.__model = name\n",
        "    self.__mile = mile\n",
        "    self.__types = types\n",
        "    \n",
        "  def showCar(self):\n",
        "    print(\"Brand = \",self.__brand)\n",
        "    print(\"Model = \",self.__model)\n",
        "    print(\"Mileage = \",self.__mile)\n",
        "    print(\"Type = \",self.__types)"
      ]
    },
    {
      "cell_type": "code",
      "execution_count": null,
      "metadata": {
        "id": "m2YtjXZZ-C7o"
      },
      "outputs": [],
      "source": [
        "honda = Car('Honda','City',18,'Sedan')"
      ]
    },
    {
      "cell_type": "code",
      "execution_count": null,
      "metadata": {
        "colab": {
          "base_uri": "https://localhost:8080/"
        },
        "id": "03fvY1xQ-E46",
        "outputId": "b23baf11-25af-488b-8e86-d0b2b417faed"
      },
      "outputs": [
        {
          "name": "stdout",
          "output_type": "stream",
          "text": [
            "Brand =  Honda\n",
            "Model =  City\n",
            "Mileage =  18\n",
            "Type =  Sedan\n"
          ]
        }
      ],
      "source": [
        "honda.showCar()"
      ]
    },
    {
      "cell_type": "code",
      "execution_count": null,
      "metadata": {
        "colab": {
          "base_uri": "https://localhost:8080/",
          "height": 166
        },
        "id": "FDofZrVP_eoI",
        "outputId": "733cd5a9-e841-473c-f03a-3ed400ca2fd2"
      },
      "outputs": [
        {
          "ename": "AttributeError",
          "evalue": "ignored",
          "output_type": "error",
          "traceback": [
            "\u001b[0;31m---------------------------------------------------------------------------\u001b[0m",
            "\u001b[0;31mAttributeError\u001b[0m                            Traceback (most recent call last)",
            "\u001b[0;32m<ipython-input-120-0e7b9593174c>\u001b[0m in \u001b[0;36m<module>\u001b[0;34m\u001b[0m\n\u001b[0;32m----> 1\u001b[0;31m \u001b[0mhonda\u001b[0m\u001b[0;34m.\u001b[0m\u001b[0m__model\u001b[0m\u001b[0;34m\u001b[0m\u001b[0;34m\u001b[0m\u001b[0m\n\u001b[0m",
            "\u001b[0;31mAttributeError\u001b[0m: 'Car' object has no attribute '__model'"
          ]
        }
      ],
      "source": [
        "honda.__model"
      ]
    }
  ],
  "metadata": {
    "colab": {
      "collapsed_sections": [
        "Rg0QOZrPCsmX",
        "hALSC3BcpVIN",
        "UgnXdnq71bsg"
      ],
      "provenance": []
    },
    "kernelspec": {
      "display_name": "Python 3",
      "name": "python3"
    },
    "language_info": {
      "codemirror_mode": {
        "name": "ipython",
        "version": 3
      },
      "file_extension": ".py",
      "mimetype": "text/x-python",
      "name": "python",
      "nbconvert_exporter": "python",
      "pygments_lexer": "ipython3",
      "version": "3.8.10"
    }
  },
  "nbformat": 4,
  "nbformat_minor": 0
}
