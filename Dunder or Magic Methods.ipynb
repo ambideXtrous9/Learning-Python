{
 "cells": [
  {
   "cell_type": "markdown",
   "metadata": {},
   "source": [
    "# **Dunder or Magic Methods**"
   ]
  },
  {
   "cell_type": "markdown",
   "metadata": {},
   "source": [
    "#### Python Magic methods are the methods starting and ending with **double underscores ‘__’**. They are defined by built-in classes in Python and commonly used for operator overloading. \n",
    "\n",
    "#### They are also called Dunder methods, *Dunder here means “Double Under (Underscores)”.*\n",
    "\n"
   ]
  },
  {
   "cell_type": "markdown",
   "metadata": {},
   "source": [
    "#### => The __del__ method is a special method in Python classes that is called when an **object is about to be destroyed**, typically as part of the garbage collection process.\n",
    "\n",
    "#### => The __repr__ method in Python is a special method used to define a **string** representation of an object. "
   ]
  },
  {
   "cell_type": "code",
   "execution_count": 46,
   "metadata": {},
   "outputs": [],
   "source": [
    "class Vector:\n",
    "    def __init__(self,x,y):\n",
    "        self.x = x \n",
    "        self.y = y\n",
    "    \n",
    "    def __add__(self,other):\n",
    "        return Vector(self.x + other.x, self.y + other.y)\n",
    "    \n",
    "    def __repr__(self):\n",
    "        return (f\"X : {self.x}, Y : {self.y}\")\n",
    "    \n",
    "    def __del__(self):\n",
    "        print(f\"Object is being destroyed\")\n",
    "    "
   ]
  },
  {
   "cell_type": "code",
   "execution_count": 47,
   "metadata": {},
   "outputs": [
    {
     "name": "stdout",
     "output_type": "stream",
     "text": [
      "Object is being destroyed\n",
      "Object is being destroyed\n",
      "X : 40, Y : 60\n"
     ]
    }
   ],
   "source": [
    "v1 = Vector(x=10, y=20)\n",
    "v2 = Vector(x=30, y=40)\n",
    "\n",
    "v3 = v1 + v2\n",
    "print(v3)"
   ]
  },
  {
   "cell_type": "code",
   "execution_count": 48,
   "metadata": {},
   "outputs": [
    {
     "name": "stdout",
     "output_type": "stream",
     "text": [
      "Object is being destroyed\n"
     ]
    },
    {
     "ename": "NameError",
     "evalue": "name 'v3' is not defined",
     "output_type": "error",
     "traceback": [
      "\u001b[0;31m---------------------------------------------------------------------------\u001b[0m",
      "\u001b[0;31mNameError\u001b[0m                                 Traceback (most recent call last)",
      "Cell \u001b[0;32mIn[48], line 2\u001b[0m\n\u001b[1;32m      1\u001b[0m \u001b[38;5;28;01mdel\u001b[39;00m v3\n\u001b[0;32m----> 2\u001b[0m \u001b[38;5;28mprint\u001b[39m(\u001b[43mv3\u001b[49m)\n",
      "\u001b[0;31mNameError\u001b[0m: name 'v3' is not defined"
     ]
    }
   ],
   "source": [
    "del v3\n",
    "print(v3)"
   ]
  },
  {
   "cell_type": "code",
   "execution_count": 49,
   "metadata": {},
   "outputs": [],
   "source": [
    "class Counter:\n",
    "    def __init__(self):\n",
    "        self.count = 0\n",
    "\n",
    "    def __call__(self):\n",
    "        self.count += 1\n",
    "        return self.count\n"
   ]
  },
  {
   "cell_type": "code",
   "execution_count": 50,
   "metadata": {},
   "outputs": [
    {
     "name": "stdout",
     "output_type": "stream",
     "text": [
      "1\n",
      "2\n",
      "3\n"
     ]
    }
   ],
   "source": [
    "# Creating an instance of Counter\n",
    "counter = Counter()\n",
    "\n",
    "# Calling the instance like a function increments the count\n",
    "print(counter())  # Prints 1\n",
    "print(counter())  # Prints 2\n",
    "print(counter())  # Prints 3\n"
   ]
  },
  {
   "cell_type": "markdown",
   "metadata": {},
   "source": [
    "## **__getitem__** and **__len__**\n",
    "\n",
    "### In Python, **__getitem__(self,index)** is a special method that allows an object to be indexed, just like a sequence **(e.g., list, tuple) or a mapping (e.g., dictionary)**."
   ]
  },
  {
   "cell_type": "code",
   "execution_count": 28,
   "metadata": {},
   "outputs": [],
   "source": [
    "class MyClass:\n",
    "    def __init__(self, data):\n",
    "        self.data = data\n",
    "    \n",
    "    def __len__(self):\n",
    "        return len(self.data)\n",
    "    \n",
    "    def __getitem__(self, index):\n",
    "        return self.data[index]\n",
    "\n"
   ]
  },
  {
   "cell_type": "code",
   "execution_count": 31,
   "metadata": {},
   "outputs": [
    {
     "name": "stdout",
     "output_type": "stream",
     "text": [
      "Data = 3\n",
      "Object Len = 5\n"
     ]
    }
   ],
   "source": [
    "# Creating an instance of MyClass\n",
    "my_object = MyClass([1, 2, 3, 4, 5])\n",
    "\n",
    "# Using __getitem__ to access elements\n",
    "print(f\"Data = {my_object[2]}\") \n",
    "print(f\"Object Len = {len(my_object)}\")"
   ]
  },
  {
   "cell_type": "markdown",
   "metadata": {},
   "source": [
    "## Example"
   ]
  },
  {
   "cell_type": "code",
   "execution_count": 25,
   "metadata": {},
   "outputs": [
    {
     "ename": "AttributeError",
     "evalue": "module 'torch.nn' has no attribute 'Dataset'",
     "output_type": "error",
     "traceback": [
      "\u001b[0;31m---------------------------------------------------------------------------\u001b[0m",
      "\u001b[0;31mAttributeError\u001b[0m                            Traceback (most recent call last)",
      "Cell \u001b[0;32mIn[25], line 1\u001b[0m\n\u001b[0;32m----> 1\u001b[0m \u001b[38;5;28;01mclass\u001b[39;00m \u001b[38;5;21;01mFlickr27Dataset\u001b[39;00m(\u001b[43mtorch\u001b[49m\u001b[38;5;241;43m.\u001b[39;49m\u001b[43mnn\u001b[49m\u001b[38;5;241;43m.\u001b[39;49m\u001b[43mDataset\u001b[49m):\n\u001b[1;32m      2\u001b[0m     \u001b[38;5;28;01mdef\u001b[39;00m \u001b[38;5;21m__init__\u001b[39m(\u001b[38;5;28mself\u001b[39m, root_folder, annotation_file, class_name_to_label ,transform\u001b[38;5;241m=\u001b[39m\u001b[38;5;28;01mNone\u001b[39;00m):\n\u001b[1;32m      3\u001b[0m         \u001b[38;5;28mself\u001b[39m\u001b[38;5;241m.\u001b[39mroot_folder \u001b[38;5;241m=\u001b[39m root_folder\n",
      "\u001b[0;31mAttributeError\u001b[0m: module 'torch.nn' has no attribute 'Dataset'"
     ]
    }
   ],
   "source": [
    "import torch\n",
    "from torch.utils.data import Dataset\n",
    "\n",
    "class Flickr27Dataset(Dataset):\n",
    "    def __init__(self, root_folder, annotation_file, class_name_to_label ,transform=None):\n",
    "        self.root_folder = root_folder\n",
    "        self.annotations = annotation_file\n",
    "        self.transform = transform\n",
    "        self.ClasstoLabel = class_name_to_label\n",
    "        \n",
    "    def __len__(self):\n",
    "        return len(self.annotations)\n",
    "\n",
    "    def __getitem__(self, idx):\n",
    "        image_name = self.annotations.iloc[idx][0]\n",
    "        image_path = f\"{self.root_folder}/{image_name}\"\n",
    "\n",
    "        # Load image\n",
    "        image = Image.open(image_path).convert(\"RGB\")\n",
    "        wt, ht = image.size\n",
    "        image = image.resize((config.WIDTH, config.HEIGHT))\n",
    "        image = np.array(image).astype(np.float32)\n",
    "        image /= 255.0\n",
    "        \n",
    "        \n",
    "        # Extract bounding box coordinates and class label\n",
    "        xmin = self.annotations.iloc[idx][3]\n",
    "        ymin = self.annotations.iloc[idx][4]\n",
    "        xmax = self.annotations.iloc[idx][5]\n",
    "        ymax = self.annotations.iloc[idx][6]\n",
    "        \n",
    "        # change bounding box as per resize\n",
    "        \n",
    "        xmin_corr = (xmin/wt)*config.WIDTH\n",
    "        xmax_corr = (xmax/wt)*config.WIDTH\n",
    "        ymin_corr = (ymin/ht)*config.HEIGHT\n",
    "        ymax_corr = (ymax/ht)*config.HEIGHT\n",
    "        \n",
    "        \n",
    "        box = [xmin_corr, ymin_corr, xmax_corr, ymax_corr]\n",
    "        box = [float(coord) for coord in box]\n",
    "        class_name = self.annotations.iloc[idx][1]\n",
    "        class_label = self.ClasstoLabel[class_name]\n",
    "         \n",
    "        \n",
    "        # Create target dictionary containing bounding box and class information\n",
    "        target = {\n",
    "            'image_id' : torch.tensor([idx]),\n",
    "            'boxes' : torch.tensor([box], dtype=torch.float32),\n",
    "            'labels' : torch.tensor([class_label], dtype=torch.int64),\n",
    "        }\n",
    "        \n",
    "        if self.transform:\n",
    "            sample = {\n",
    "                'image': image,\n",
    "                'bboxes': target['boxes'],\n",
    "                'labels': target['labels']\n",
    "            }\n",
    "            sample = self.transform(**sample)\n",
    "            image = sample['image']\n",
    "            \n",
    "            target['boxes'] = torch.as_tensor(sample['bboxes'])\n",
    " \n",
    "\n",
    "        return image, target\n",
    "\n"
   ]
  },
  {
   "cell_type": "code",
   "execution_count": null,
   "metadata": {},
   "outputs": [],
   "source": []
  }
 ],
 "metadata": {
  "kernelspec": {
   "display_name": "Python 3",
   "language": "python",
   "name": "python3"
  },
  "language_info": {
   "codemirror_mode": {
    "name": "ipython",
    "version": 3
   },
   "file_extension": ".py",
   "mimetype": "text/x-python",
   "name": "python",
   "nbconvert_exporter": "python",
   "pygments_lexer": "ipython3",
   "version": "3.8.10"
  }
 },
 "nbformat": 4,
 "nbformat_minor": 2
}
