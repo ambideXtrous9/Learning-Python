{
 "cells": [
  {
   "cell_type": "markdown",
   "metadata": {},
   "source": [
    "## **2370. Longest Ideal Subsequence**"
   ]
  },
  {
   "cell_type": "code",
   "execution_count": null,
   "metadata": {},
   "outputs": [],
   "source": [
    "class Solution:\n",
    "\n",
    "    def LIS(self,s,cur,prev,n,k):\n",
    "\n",
    "        if(cur >= n) : return 0\n",
    "\n",
    "        if(self.dp[cur][prev+1] != -1) : return self.dp[cur][prev+1]\n",
    "\n",
    "        if(prev == -1 or abs(ord(s[cur])-ord(s[prev])) <= k):\n",
    "\n",
    "            self.dp[cur][prev+1] =  max(1 + self.LIS(s,cur+1,cur,n,k) , self.LIS(s,cur+1,prev,n,k))\n",
    "\n",
    "        else:\n",
    "            self.dp[cur][prev+1] =  self.LIS(s,cur+1,prev,n,k)\n",
    "\n",
    "        return self.dp[cur][prev+1]\n",
    "\n",
    "\n",
    "\n",
    "    def longestIdealString(self, s: str, k: int) -> int:\n",
    "\n",
    "        cur = 0\n",
    "        prev = -1\n",
    "\n",
    "        n = len(s)\n",
    "\n",
    "        if(n==0) : return 0\n",
    "\n",
    "        dp = [1] * (n+1)\n",
    "\n",
    "        ans = 0\n",
    "\n",
    "        for cur in range(1,n):\n",
    "\n",
    "            for prev in range(cur):\n",
    "\n",
    "                if(abs(ord(s[cur]) - ord(s[prev])) <= k):\n",
    "\n",
    "                    dp[cur] = max(dp[cur], 1 + dp[prev])\n",
    "\n",
    "            ans = max(ans,dp[cur])\n",
    "\n",
    "\n",
    "        return ans"
   ]
  },
  {
   "cell_type": "markdown",
   "metadata": {},
   "source": [
    "### Non-TLE Solution\n",
    "\n",
    "1. at max total no of unique char : 26 -> dp[26]\n",
    "\n",
    "2. at every index (every char of alphabet) (as there are 26 alphabet) we calculate max len of subsequence can be formed that ends with current char. Now we have the condition k. \n",
    "\n",
    "3. so need to check k before and k after already been calculated or not. and update accordingly. if two char are more than k apart then their dp[] claculations wont overlap and can't influence the dp[cur] length.\n"
   ]
  },
  {
   "cell_type": "code",
   "execution_count": null,
   "metadata": {},
   "outputs": [],
   "source": [
    "\n",
    "class Solution:\n",
    "    def longestIdealString(self, s: str, k: int) -> int:\n",
    "\n",
    "        n = len(s)\n",
    "\n",
    "        if(n==0) : return 0\n",
    "\n",
    "        dp = [0] * (26)\n",
    "\n",
    "        ans = 0\n",
    "\n",
    "        for c in s:\n",
    "\n",
    "            i = ord(c) - 97\n",
    "\n",
    "            dp[i] = dp[i] + 1\n",
    "\n",
    "            mini = max(0,i-k) \n",
    "            maxi = min(25,i+k)\n",
    "\n",
    "            for j in range(mini,maxi+1):\n",
    "\n",
    "                if(i!=j) : dp[i] = max(dp[i],dp[j] + 1)\n",
    "\n",
    "            ans = max(ans,dp[i])\n",
    "\n",
    "        return ans"
   ]
  }
 ],
 "metadata": {
  "language_info": {
   "name": "python"
  }
 },
 "nbformat": 4,
 "nbformat_minor": 2
}
