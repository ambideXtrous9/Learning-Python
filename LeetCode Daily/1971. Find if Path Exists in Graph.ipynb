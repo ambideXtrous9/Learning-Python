{
 "cells": [
  {
   "cell_type": "markdown",
   "metadata": {},
   "source": [
    "## **1971. Find if Path Exists in Graph**"
   ]
  },
  {
   "cell_type": "code",
   "execution_count": null,
   "metadata": {},
   "outputs": [],
   "source": [
    "from collections import defaultdict\n",
    "\n",
    "class Solution:\n",
    "\n",
    "    def BFS(self,s,d):\n",
    "\n",
    "        Q = []\n",
    "\n",
    "        Q.append(s)\n",
    "        self.V[s] = True\n",
    "\n",
    "        while Q:\n",
    "\n",
    "            u = Q.pop(0)\n",
    "\n",
    "            for v in self.G[u]:\n",
    "\n",
    "                if(v == d) : return True\n",
    "\n",
    "                elif(not self.V[v]):\n",
    "\n",
    "                    self.V[v] = True\n",
    "                    Q.append(v)\n",
    "\n",
    "        return False\n",
    "\n",
    "\n",
    "    def validPath(self, n: int, edges: List[List[int]], source: int, destination: int) -> bool:\n",
    "\n",
    "        if(n==1) : return True\n",
    "\n",
    "        self.G = defaultdict(list)\n",
    "        \n",
    "        for x in edges:\n",
    "\n",
    "            self.G[x[0]].append(x[1])\n",
    "            self.G[x[1]].append(x[0])\n",
    "\n",
    "        self.V = [False]*n\n",
    "\n",
    "        return self.BFS(source,destination)"
   ]
  }
 ],
 "metadata": {
  "language_info": {
   "name": "python"
  }
 },
 "nbformat": 4,
 "nbformat_minor": 2
}
