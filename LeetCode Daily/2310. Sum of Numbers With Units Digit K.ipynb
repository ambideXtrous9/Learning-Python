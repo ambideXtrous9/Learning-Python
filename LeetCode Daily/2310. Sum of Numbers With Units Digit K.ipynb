{
 "cells": [
  {
   "cell_type": "markdown",
   "metadata": {},
   "source": [
    "## **2310. Sum of Numbers With Units Digit K**\n",
    "\n",
    "1. make the array with numbers having unit digit  = k\n",
    "\n",
    "2. Now apply coin-change with unlimited supply : UB-KS"
   ]
  },
  {
   "cell_type": "code",
   "execution_count": null,
   "metadata": {},
   "outputs": [],
   "source": [
    "import math\n",
    "class Solution:\n",
    "\n",
    "    def minimumNumbers(self, num: int, k: int) -> int:\n",
    "\n",
    "        if(num == 0) : return 0\n",
    "\n",
    "        z = num % 10\n",
    "        t = num//10\n",
    "\n",
    "        t = (t+1) if (z >= k) else t\n",
    "\n",
    "        arr = []\n",
    "\n",
    "        for i in range(t):\n",
    "            arr.append(i*10 + k)\n",
    "\n",
    "        n = len(arr)\n",
    "\n",
    "        count = [[math.inf]* (n+1) for _ in range(num + 1)]\n",
    "    \n",
    "        for i in range (0, num + 1): \n",
    "\n",
    "            for j in range (0, n+1):\n",
    "\n",
    "                if(i==0) : count[i][j] = 0\n",
    "\n",
    "                elif(j==0) : count[i][j] = math.inf\n",
    "\n",
    "                elif (i >= arr[j-1]) :\n",
    "\n",
    "                    count[i][j] = min(1 + count[i - arr[j-1]][j],count[i][j-1])\n",
    "\n",
    "                else:\n",
    "\n",
    "                    count[i][j] = count[i][j-1]\n",
    "\n",
    "            \n",
    "        return -1 if(count[num][n]==math.inf) else count[num][n]"
   ]
  }
 ],
 "metadata": {
  "language_info": {
   "name": "python"
  }
 },
 "nbformat": 4,
 "nbformat_minor": 2
}
