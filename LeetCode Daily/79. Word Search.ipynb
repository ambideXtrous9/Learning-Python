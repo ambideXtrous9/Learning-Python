{
 "cells": [
  {
   "cell_type": "code",
   "execution_count": null,
   "metadata": {},
   "outputs": [],
   "source": [
    "class Solution:\n",
    "\n",
    "    def DFS(self,i,j,n,m,k,t,M,W):\n",
    "\n",
    "        if(i < 0  or i >= n or j < 0 or j >= m or k >= t or self.visited[i][j] == True or M[i][j] != W[k]): return False\n",
    "\n",
    "        if(k == t-1 and W[k] == M[i][j]) : return True\n",
    "\n",
    "        self.visited[i][j] == True\n",
    "\n",
    "        res = self.DFS(i+1,j,n,m,k+1,t,M,W) or self.DFS(i,j+1,n,m,k+1,t,M,W) or self.DFS(i-1,j,n,m,k+1,t,M,W) or self.DFS(i,j-1,n,m,k+1,t,M,W)\n",
    "\n",
    "        self.visited[i][j] == False\n",
    "\n",
    "        return res\n",
    "\n",
    "\n",
    "    def exist(self, board: List[List[str]], word: str) -> bool:\n",
    "\n",
    "        t = len(word)\n",
    "\n",
    "        if(t == 0): return False\n",
    "\n",
    "        n = len(board)\n",
    "        m = len(board[0])\n",
    "\n",
    "\n",
    "        Q = []\n",
    "\n",
    "        self.visited = [[False]*(m) for _ in range(n)] \n",
    "\n",
    "\n",
    "        for i in range(n):\n",
    "\n",
    "            for j in range(m):\n",
    "\n",
    "                if(board[i][j] == word[0]): Q.append((i,j))\n",
    "\n",
    "        \n",
    "        for (x,y) in Q:\n",
    "\n",
    "            if self.DFS(x,y,n,m,0,t,board,word) == True: return True\n",
    "\n",
    "        return False\n",
    "\n",
    "\n",
    "\n",
    "\n",
    "        "
   ]
  }
 ],
 "metadata": {
  "language_info": {
   "name": "python"
  }
 },
 "nbformat": 4,
 "nbformat_minor": 2
}
