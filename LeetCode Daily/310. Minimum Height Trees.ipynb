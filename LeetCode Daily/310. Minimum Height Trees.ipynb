{
 "cells": [
  {
   "cell_type": "markdown",
   "metadata": {},
   "source": [
    "## **310. Minimum Height Trees**\n",
    "\n",
    "To solve this problem, we can follow the idea of \"peeling an onion\" from the outside layer. The basic idea is as follows:\n",
    "\n",
    "1. Initialize Leaves: Start by identifying all the leaves of the tree (nodes with only one edge).\n",
    "\n",
    "2. Peel the Onion: Remove the current leaves, reduce the degree of each affected node (node which was connected to a removed leaf), and then determine the new leaves.\n",
    "\n",
    "3. Repeat: Continue this process until we're left with one or two nodes, which will be our answer since a tree of n nodes has at most 2 MHTs."
   ]
  },
  {
   "cell_type": "code",
   "execution_count": null,
   "metadata": {},
   "outputs": [],
   "source": [
    "\n",
    "from collections import defaultdict\n",
    "import math\n",
    "class Solution:\n",
    "\n",
    "    def findMinHeightTrees(self, n: int, edges: List[List[int]]) -> List[int]:\n",
    "\n",
    "        if(n==0) : return []\n",
    "\n",
    "        if(n==1) : return [0]\n",
    "\n",
    "        if(len(edges) == 1) : return edges[0]\n",
    "\n",
    "        G = defaultdict(list)\n",
    "\n",
    "        IND = [0]*n\n",
    "\n",
    "        for x in edges:\n",
    "\n",
    "            IND[x[0]] += 1\n",
    "            IND[x[1]] += 1\n",
    "\n",
    "            G[x[0]].append(x[1])\n",
    "            G[x[1]].append(x[0])\n",
    "\n",
    "        Q = []\n",
    "\n",
    "        for i in range(n):\n",
    "\n",
    "            if(IND[i] == 1) : Q.append(i)\n",
    "\n",
    "        processed = 0\n",
    "        \n",
    "        while (n-processed > 2):  # remaining\n",
    "\n",
    "            L = len(Q)\n",
    "\n",
    "            processed += L\n",
    "\n",
    "            for _ in range(L):\n",
    "\n",
    "                u = Q.pop(0)\n",
    "\n",
    "                for v in G[u]: \n",
    "\n",
    "                    IND[v] = IND[v] - 1\n",
    "\n",
    "                    if(IND[v] == 1) :\n",
    "\n",
    "                        Q.append(v)\n",
    "\n",
    "        \n",
    "        return Q"
   ]
  }
 ],
 "metadata": {
  "language_info": {
   "name": "python"
  }
 },
 "nbformat": 4,
 "nbformat_minor": 2
}
