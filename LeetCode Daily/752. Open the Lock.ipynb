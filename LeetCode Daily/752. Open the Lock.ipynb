{
 "cells": [
  {
   "cell_type": "markdown",
   "metadata": {},
   "source": [
    "## **752. Open the Lock**"
   ]
  },
  {
   "cell_type": "code",
   "execution_count": null,
   "metadata": {},
   "outputs": [],
   "source": [
    "class Solution:\n",
    "    def openLock(self, deadends: List[str], target: str) -> int:\n",
    "\n",
    "        H = set()\n",
    "\n",
    "        for x in deadends: H.add(x)\n",
    "\n",
    "        Q = []\n",
    "\n",
    "        src = \"0000\"\n",
    "\n",
    "        if(src in H) : return -1\n",
    "\n",
    "        Q.append(src)\n",
    "\n",
    "        level = 0\n",
    "\n",
    "        while Q:\n",
    "\n",
    "            L = len(Q)\n",
    "\n",
    "            for _ in range(L):\n",
    "\n",
    "                text = Q.pop(0)\n",
    "\n",
    "                H.add(text)\n",
    "\n",
    "                if(text == target) : return level\n",
    "\n",
    "                for i in range(4):\n",
    "\n",
    "                    p = 0 if ((int(text[i]) + 1) == 10) else (int(text[i]) + 1)\n",
    "                    n = 9 if ((int(text[i]) - 1) == -1) else (int(text[i]) - 1)\n",
    "\n",
    "                    t1 = text[:i] + str(p) + text[i+1:]\n",
    "\n",
    "                    if(t1 == target) : return level+1\n",
    "\n",
    "                    if(t1 not in H): \n",
    "                        Q.append(t1)\n",
    "                        H.add(t1)\n",
    "\n",
    "                    t2 = text[:i] + str(n) + text[i+1:]\n",
    "\n",
    "                    if(t2 == target) : return level+1\n",
    "\n",
    "                    if(t2 not in H): \n",
    "                        Q.append(t2)\n",
    "                        H.add(t2)\n",
    "\n",
    "            level += 1\n",
    "\n",
    "        return -1"
   ]
  }
 ],
 "metadata": {
  "language_info": {
   "name": "python"
  }
 },
 "nbformat": 4,
 "nbformat_minor": 2
}
