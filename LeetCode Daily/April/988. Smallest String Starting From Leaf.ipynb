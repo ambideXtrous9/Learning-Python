{
 "cells": [
  {
   "cell_type": "code",
   "execution_count": null,
   "metadata": {},
   "outputs": [],
   "source": [
    "# Definition for a binary tree node.\n",
    "\n",
    "class TreeNode:\n",
    "    def __init__(self, val=0, left=None, right=None):\n",
    "        self.val = val\n",
    "        self.left = left\n",
    "        self.right = right\n",
    "        \n",
    "class Solution:\n",
    "\n",
    "\n",
    "    def LTR(self,root,temp):\n",
    "\n",
    "        if(not root): return\n",
    "\n",
    "        if(not root.left and not root.right):\n",
    "            temp += chr(root.val + 97)\n",
    "            x = temp[::-1]\n",
    "            if(len(self.res) == 0): self.res = x\n",
    "            else: self.res = min(self.res,x)\n",
    "            return\n",
    "\n",
    "        temp += chr(root.val + 97)\n",
    "\n",
    "        self.LTR(root.left,temp)\n",
    "\n",
    "        self.LTR(root.right,temp)\n",
    "\n",
    "\n",
    "    def smallestFromLeaf(self, root: Optional[TreeNode]) -> str:\n",
    "\n",
    "\n",
    "        self.res = \"\"\n",
    "\n",
    "        temp = \"\"\n",
    "\n",
    "        self.LTR(root,temp)\n",
    "\n",
    "        return self.res\n",
    "        "
   ]
  }
 ],
 "metadata": {
  "language_info": {
   "name": "python"
  }
 },
 "nbformat": 4,
 "nbformat_minor": 2
}
