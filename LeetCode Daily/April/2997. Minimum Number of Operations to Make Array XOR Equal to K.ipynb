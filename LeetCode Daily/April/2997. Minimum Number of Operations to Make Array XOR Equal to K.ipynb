{
 "cells": [
  {
   "cell_type": "markdown",
   "metadata": {},
   "source": [
    "## **2997. Minimum Number of Operations to Make Array XOR Equal to K**"
   ]
  },
  {
   "cell_type": "code",
   "execution_count": null,
   "metadata": {},
   "outputs": [],
   "source": [
    "class Solution:\n",
    "    def minOperations(self, nums: List[int], k: int) -> int:\n",
    "\n",
    "        for x in nums : k = k^x\n",
    "\n",
    "        count = 0\n",
    "        \n",
    "        while k :\n",
    "\n",
    "            if(k&1) : count += 1\n",
    "\n",
    "            k = k >> 1\n",
    "        \n",
    "        return count"
   ]
  }
 ],
 "metadata": {
  "language_info": {
   "name": "python"
  }
 },
 "nbformat": 4,
 "nbformat_minor": 2
}
