{
 "cells": [
  {
   "cell_type": "code",
   "execution_count": null,
   "metadata": {},
   "outputs": [],
   "source": [
    "class Solution:\n",
    "\n",
    "    def DFS(self,i,j,n,m,k,t,M,W):\n",
    "\n",
    "        if(k == t): return True\n",
    "\n",
    "        if(i < 0  or i >= n or j < 0 or j >= m or M[i][j] != W[k]): return False\n",
    "\n",
    "        c = M[i][j]\n",
    "        M[i][j] = '#'\n",
    "\n",
    "        res = self.DFS(i+1,j,n,m,k+1,t,M,W) or self.DFS(i,j+1,n,m,k+1,t,M,W) or self.DFS(i-1,j,n,m,k+1,t,M,W) or self.DFS(i,j-1,n,m,k+1,t,M,W)\n",
    "\n",
    "        M[i][j] = c\n",
    "\n",
    "        return res\n",
    "\n",
    "\n",
    "    def exist(self, board: List[List[str]], word: str) -> bool:\n",
    "\n",
    "        t = len(word)\n",
    "\n",
    "        if(t == 0): return False\n",
    "\n",
    "        n = len(board)\n",
    "        m = len(board[0])\n",
    "\n",
    "        if(n == 0): return False\n",
    "\n",
    "        for i in range(n):\n",
    "\n",
    "            for j in range(m):\n",
    "\n",
    "                if self.DFS(i,j,n,m,0,t,board,word) == True: return True\n",
    "\n",
    "        return False"
   ]
  }
 ],
 "metadata": {
  "language_info": {
   "name": "python"
  }
 },
 "nbformat": 4,
 "nbformat_minor": 2
}
