{
 "cells": [
  {
   "cell_type": "markdown",
   "metadata": {},
   "source": [
    "## **834. Sum of Distances in Tree**"
   ]
  },
  {
   "cell_type": "markdown",
   "metadata": {},
   "source": [
    "### MLE"
   ]
  },
  {
   "cell_type": "code",
   "execution_count": null,
   "metadata": {},
   "outputs": [],
   "source": [
    "\n",
    "import math\n",
    "class Solution:\n",
    "\n",
    "\n",
    "    def sumOfDistancesInTree(self, n: int, edges: List[List[int]]) -> List[int]:\n",
    "\n",
    "\n",
    "        dp = [[math.inf]*n for _ in range(n)]\n",
    "\n",
    "        for x in edges:\n",
    "\n",
    "            dp[x[0]][x[1]] = 1\n",
    "            dp[x[1]][x[0]] = 1\n",
    "\n",
    "        for i in range(n): dp[i][i] = 0\n",
    "\n",
    "\n",
    "        for k in range(n):\n",
    "\n",
    "            for i in range(n):\n",
    "            \n",
    "                for j in range(n):\n",
    "\n",
    "                    if(dp[i][k]!=math.inf and dp[k][j]!=math.inf and dp[i][j] > dp[i][k] + dp[k][j]) :\n",
    "\n",
    "                        dp[i][j] = dp[i][k] + dp[k][j]\n",
    "\n",
    "        \n",
    "        res = [0]*n\n",
    "\n",
    "        \n",
    "        for i in range(n):\n",
    "\n",
    "            for j  in range(n):\n",
    "\n",
    "                res[i] += dp[i][j]\n",
    "\n",
    "        return res"
   ]
  },
  {
   "cell_type": "markdown",
   "metadata": {},
   "source": [
    "### TLE"
   ]
  },
  {
   "cell_type": "code",
   "execution_count": null,
   "metadata": {},
   "outputs": [],
   "source": [
    "from collections import defaultdict\n",
    "\n",
    "class Solution:\n",
    "    def DFS(self,node,par,G):\n",
    "\n",
    "        self.size[node] = 1\n",
    "        self.dp[node] = 0\n",
    "\n",
    "        for v in G[node] :\n",
    "\n",
    "            if v!=par : \n",
    "\n",
    "                self.DFS(v,node,G)\n",
    "                self.size[node] += self.size[v]\n",
    "                self.dp[node] += self.dp[v] + self.size[v]\n",
    "\n",
    "    def sumOfDistancesInTree(self, n: int, edges: List[List[int]]) -> List[int]:\n",
    "\n",
    "        G = defaultdict(list)\n",
    "\n",
    "        for x in edges:\n",
    "\n",
    "            G[x[0]].append(x[1])\n",
    "            G[x[1]].append(x[0])\n",
    "\n",
    "        self.size = [0]*n  # for storing size of subtree\n",
    "        self.dp = [0]*n    # for storing sum of paths\n",
    "\n",
    "        self.ans = [0]*n\n",
    "\n",
    "        for r in range(0, n):\n",
    "            self.DFS(r, -1, G)\n",
    "            self.ans[r] = self.dp[r]\n",
    "\n",
    "        return self.ans"
   ]
  },
  {
   "cell_type": "markdown",
   "metadata": {},
   "source": [
    "### Rerooting of DP"
   ]
  },
  {
   "cell_type": "code",
   "execution_count": null,
   "metadata": {},
   "outputs": [],
   "source": [
    "from collections import defaultdict\n",
    "\n",
    "class Solution:\n",
    "    def DFS(self,node,par,G):\n",
    "\n",
    "        self.size[node] = 1\n",
    "        self.dp[node] = 0\n",
    "\n",
    "        for v in G[node] :\n",
    "\n",
    "            if v!=par : \n",
    "\n",
    "                self.DFS(v,node,G)\n",
    "                self.size[node] += self.size[v]\n",
    "                self.dp[node] += self.dp[v] + self.size[v]\n",
    "\n",
    "\n",
    "    def Rerooting(self,node,par,n,G):\n",
    "\n",
    "        for child in G[node]:\n",
    "\n",
    "            if child != par :\n",
    "\n",
    "                self.dp[child] = self.dp[node] - self.size[child] + (n-self.size[child])\n",
    "\n",
    "                self.Rerooting(child,node,n,G)\n",
    "\n",
    "    def sumOfDistancesInTree(self, n: int, edges: List[List[int]]) -> List[int]:\n",
    "\n",
    "        G = defaultdict(list)\n",
    "\n",
    "        for x in edges:\n",
    "\n",
    "            G[x[0]].append(x[1])\n",
    "            G[x[1]].append(x[0])\n",
    "\n",
    "        self.size = [0]*n  # for storing size of subtree\n",
    "        self.dp = [0]*n    # for storing sum of paths\n",
    "\n",
    "        \n",
    "        self.DFS(0, -1, G)\n",
    "        self.Rerooting(0,-1,n,G)\n",
    "\n",
    "        return self.dp"
   ]
  }
 ],
 "metadata": {
  "language_info": {
   "name": "python"
  }
 },
 "nbformat": 4,
 "nbformat_minor": 2
}
