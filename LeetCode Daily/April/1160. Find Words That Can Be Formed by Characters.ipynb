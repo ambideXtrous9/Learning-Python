{
 "cells": [
  {
   "cell_type": "markdown",
   "metadata": {},
   "source": [
    "## **1160. Find Words That Can Be Formed by Characters**"
   ]
  },
  {
   "cell_type": "code",
   "execution_count": null,
   "metadata": {},
   "outputs": [],
   "source": [
    "\n",
    "from collections import defaultdict\n",
    "\n",
    "class Solution:\n",
    "    def countCharacters(self, words: List[str], chars: str) -> int:\n",
    "\n",
    "        H1 = defaultdict(int)\n",
    "\n",
    "        for x in chars: H1[x] += 1\n",
    "\n",
    "        ans = 0\n",
    "\n",
    "        for x in words:\n",
    "\n",
    "            H = H1.copy()\n",
    "\n",
    "            flag = True\n",
    "\n",
    "            for c in x : \n",
    "                \n",
    "                if c not in H or H[c] == 0:\n",
    "                    flag = False \n",
    "                    break\n",
    "                \n",
    "                H[c] -= 1\n",
    "\n",
    "            if(flag) : ans += len(x)\n",
    "        \n",
    "        return ans"
   ]
  }
 ],
 "metadata": {
  "language_info": {
   "name": "python"
  }
 },
 "nbformat": 4,
 "nbformat_minor": 2
}
