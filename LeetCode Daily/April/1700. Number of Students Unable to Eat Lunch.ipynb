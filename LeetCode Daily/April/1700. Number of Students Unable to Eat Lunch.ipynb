{
 "cells": [
  {
   "cell_type": "markdown",
   "metadata": {},
   "source": [
    "## **1700. Number of Students Unable to Eat Lunch**"
   ]
  },
  {
   "cell_type": "code",
   "execution_count": null,
   "metadata": {},
   "outputs": [],
   "source": [
    "class Solution:\n",
    "    def countStudents(self, students: List[int], sandwiches: List[int]) -> int:\n",
    "\n",
    "        n = len(students)\n",
    "\n",
    "        if(n==0) : return 0\n",
    "\n",
    "        for _ in range(n**2):\n",
    "\n",
    "            while(students and (students[0] == sandwiches[0])):\n",
    "\n",
    "                students.pop(0)\n",
    "                sandwiches.pop(0)\n",
    "\n",
    "            if(not students) : return 0\n",
    "\n",
    "            if(students and (students[0] != sandwiches[0])):\n",
    "\n",
    "                S = students.pop(0)\n",
    "                students.append(S)\n",
    "\n",
    "        return len(students)"
   ]
  }
 ],
 "metadata": {
  "language_info": {
   "name": "python"
  }
 },
 "nbformat": 4,
 "nbformat_minor": 2
}
