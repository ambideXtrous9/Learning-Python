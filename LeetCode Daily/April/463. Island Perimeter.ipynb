{
 "cells": [
  {
   "cell_type": "markdown",
   "metadata": {},
   "source": [
    "## **463. Island Perimeter**"
   ]
  },
  {
   "cell_type": "code",
   "execution_count": null,
   "metadata": {},
   "outputs": [],
   "source": [
    "class Solution:\n",
    "    \n",
    "    def DFS(self,i,j,n,m,M):\n",
    "\n",
    "        if(i<0 or i>=n or j<0 or j>=m or M[i][j] == 0): return 1\n",
    "\n",
    "        if(M[i][j] == -1) : return 0\n",
    "\n",
    "        M[i][j] = -1\n",
    "\n",
    "        return self.DFS(i+1,j,n,m,M) + self.DFS(i-1,j,n,m,M) + self.DFS(i,j+1,n,m,M) + self.DFS(i,j-1,n,m,M)\n",
    "\n",
    "    def islandPerimeter(self, grid: List[List[int]]) -> int:\n",
    "\n",
    "        n = len(grid)\n",
    "        m = len(grid[0])\n",
    "\n",
    "        for i in range(n):\n",
    "            for j in range(m):\n",
    "                if(grid[i][j] == 1): return self.DFS(i,j,n,m,grid)\n",
    "\n",
    "        return 0"
   ]
  }
 ],
 "metadata": {
  "language_info": {
   "name": "python"
  }
 },
 "nbformat": 4,
 "nbformat_minor": 2
}
