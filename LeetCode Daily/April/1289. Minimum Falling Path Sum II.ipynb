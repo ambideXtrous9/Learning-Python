{
 "cells": [
  {
   "cell_type": "markdown",
   "metadata": {},
   "source": [
    "## **1289. Minimum Falling Path Sum II**"
   ]
  },
  {
   "cell_type": "code",
   "execution_count": null,
   "metadata": {},
   "outputs": [],
   "source": [
    "import math\n",
    "class Solution:\n",
    "    def sol(self,i,j,n,m,G):\n",
    "\n",
    "        if(i>=n or j<0 or j>=m) : return math.inf\n",
    "\n",
    "        if(i==n-1) : return G[i][j]\n",
    "\n",
    "        if(self.dp[i][j]!=-1) : return self.dp[i][j]\n",
    "\n",
    "        x = math.inf\n",
    "\n",
    "        for t in range(0,m):\n",
    "\n",
    "            if(t !=j ) : \n",
    "\n",
    "                x = min(x,G[i][j] + self.sol(i+1,t,n,m,G))\n",
    "\n",
    "        self.dp[i][j] = x\n",
    "        return self.dp[i][j]\n",
    "\n",
    "    def minFallingPathSum(self, grid: List[List[int]]) -> int:\n",
    "\n",
    "        n = len(grid)\n",
    "\n",
    "        m = len(grid[0])\n",
    "\n",
    "        if(n == 0) : return 0\n",
    "\n",
    "        self.dp = [[-1]*(m+1) for _ in range(n+1)] \n",
    "\n",
    "        ans = math.inf\n",
    "\n",
    "        for j in range(m):\n",
    "\n",
    "            temp = self.sol(0,j,n,m,grid)\n",
    "\n",
    "            ans = min(ans,temp)\n",
    "\n",
    "        return ans\n",
    "        "
   ]
  }
 ],
 "metadata": {
  "language_info": {
   "name": "python"
  }
 },
 "nbformat": 4,
 "nbformat_minor": 2
}
