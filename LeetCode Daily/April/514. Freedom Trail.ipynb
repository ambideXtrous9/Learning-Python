{
 "cells": [
  {
   "cell_type": "markdown",
   "metadata": {},
   "source": [
    "## **514. Freedom Trail**"
   ]
  },
  {
   "cell_type": "code",
   "execution_count": null,
   "metadata": {},
   "outputs": [],
   "source": [
    "class Solution:\n",
    "        \n",
    "    def findRotateSteps(self, ring: str, key: str) -> int:\n",
    "\n",
    "        ans = 0\n",
    "\n",
    "        m = len(key)\n",
    "        n = len(ring)\n",
    "\n",
    "        if(n==0) : return 0\n",
    "\n",
    "        Q = []\n",
    "\n",
    "        V = set()\n",
    "\n",
    "        ridx = 0\n",
    "        kidx = 0\n",
    "        level = 0\n",
    "\n",
    "        Q.append((ridx,kidx,level))\n",
    "\n",
    "        V.add((ridx,kidx))\n",
    "\n",
    "        while Q :\n",
    "\n",
    "            (ridx,kidx,level) = Q.pop(0)\n",
    "\n",
    "            l = (n-1) if(ridx-1 < 0) else ridx-1\n",
    "            r = 0 if (ridx+1 >= n) else ridx+1\n",
    "\n",
    "            if(ring[ridx] == key[kidx] and kidx == m-1) : return level+1\n",
    "\n",
    "            elif(ring[ridx] == key[kidx] and (ridx,kidx+1) not in V) :\n",
    "\n",
    "                V.add((ridx,kidx+1))\n",
    "                Q.append((ridx,kidx+1,level+1))\n",
    "\n",
    "            if((l,kidx) not in V) : \n",
    "                V.add((l,kidx))\n",
    "                Q.append((l,kidx,level+1))\n",
    "            \n",
    "            if((r,kidx) not in V) : \n",
    "                V.add((r,kidx))\n",
    "                Q.append((r,kidx,level+1))\n",
    "\n",
    "        return -1"
   ]
  }
 ],
 "metadata": {
  "language_info": {
   "name": "python"
  }
 },
 "nbformat": 4,
 "nbformat_minor": 2
}
