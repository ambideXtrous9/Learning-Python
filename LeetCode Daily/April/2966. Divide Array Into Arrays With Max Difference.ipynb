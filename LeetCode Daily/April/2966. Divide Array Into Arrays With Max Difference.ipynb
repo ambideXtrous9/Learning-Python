{
 "cells": [
  {
   "cell_type": "markdown",
   "metadata": {},
   "source": [
    "## **2966. Divide Array Into Arrays With Max Difference**\n"
   ]
  },
  {
   "cell_type": "code",
   "execution_count": null,
   "metadata": {},
   "outputs": [],
   "source": [
    "class Solution:\n",
    "    def divideArray(self, nums: List[int], k: int) -> List[List[int]]:\n",
    "\n",
    "        n = len(nums)\n",
    "\n",
    "        if(n%3 == 1) : return []\n",
    "        \n",
    "        nums.sort()\n",
    "\n",
    "        ans = []\n",
    "\n",
    "        i = 0\n",
    "\n",
    "        while( i < n):\n",
    "\n",
    "            if((i<n-2) and (nums[i+2] - nums[i] > k)) : return []\n",
    "\n",
    "            ans.append(nums[i:i+3])\n",
    "\n",
    "            i += 3            \n",
    "\n",
    "        return ans"
   ]
  }
 ],
 "metadata": {
  "language_info": {
   "name": "python"
  }
 },
 "nbformat": 4,
 "nbformat_minor": 2
}
