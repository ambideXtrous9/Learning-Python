{
 "cells": [
  {
   "cell_type": "code",
   "execution_count": null,
   "metadata": {},
   "outputs": [],
   "source": [
    "class Solution:\n",
    "    def isIsomorphic(self, s: str, t: str) -> bool:\n",
    "\n",
    "        D = {}\n",
    "\n",
    "        n = len(s)\n",
    "        m = len(t)\n",
    "\n",
    "        f1 = True\n",
    "        f2 = True\n",
    "\n",
    "        if(n!=m): return False\n",
    "\n",
    "        for i in range(n):\n",
    "\n",
    "            if (s[i] not in D):\n",
    "                D[s[i]] = t[i]\n",
    "            \n",
    "            elif(D[s[i]]!=t[i]): \n",
    "                f1 = False\n",
    "                break\n",
    "        \n",
    "        D = {}\n",
    "\n",
    "        for i in range(n):\n",
    "\n",
    "            if (t[i] not in D):\n",
    "                D[t[i]] = s[i]\n",
    "            \n",
    "            elif(D[t[i]]!=s[i]): \n",
    "                f2 = False\n",
    "                break\n",
    "        \n",
    "        return (f1 and f2)"
   ]
  }
 ],
 "metadata": {
  "language_info": {
   "name": "python"
  }
 },
 "nbformat": 4,
 "nbformat_minor": 2
}
