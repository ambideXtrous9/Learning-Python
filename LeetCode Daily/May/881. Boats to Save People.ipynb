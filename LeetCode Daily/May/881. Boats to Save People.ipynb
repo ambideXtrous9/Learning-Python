{
 "cells": [
  {
   "cell_type": "markdown",
   "metadata": {},
   "source": [
    "## **881. Boats to Save People**"
   ]
  },
  {
   "cell_type": "code",
   "execution_count": null,
   "metadata": {},
   "outputs": [],
   "source": [
    "class Solution:\n",
    "    def numRescueBoats(self, people: List[int], limit: int) -> int:\n",
    "\n",
    "        n = len(people)\n",
    "\n",
    "        if(n==0) : return 0\n",
    "\n",
    "        people.sort()\n",
    "\n",
    "        l = 0\n",
    "        r = n-1\n",
    "\n",
    "        temp = limit\n",
    "\n",
    "        ans = 0\n",
    "\n",
    "        while(l<=r):\n",
    "\n",
    "            if(people[r] + people[l] <= limit):\n",
    "\n",
    "                r -= 1\n",
    "                l += 1\n",
    "                \n",
    "            else: \n",
    "                \n",
    "                r -= 1 \n",
    "\n",
    "            ans += 1\n",
    "        \n",
    "        return ans\n",
    "        \n",
    "        "
   ]
  }
 ],
 "metadata": {
  "language_info": {
   "name": "python"
  }
 },
 "nbformat": 4,
 "nbformat_minor": 2
}
