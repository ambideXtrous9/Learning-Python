{
 "cells": [
  {
   "cell_type": "markdown",
   "metadata": {},
   "source": [
    "## **2000. Reverse Prefix of Word**"
   ]
  },
  {
   "cell_type": "code",
   "execution_count": null,
   "metadata": {},
   "outputs": [],
   "source": [
    "class Solution:\n",
    "    def reversePrefix(self, word: str, ch: str) -> str:\n",
    "\n",
    "        n = len(word)\n",
    "\n",
    "        if(n==0): return \"\"\n",
    "\n",
    "        idx = -1\n",
    "\n",
    "        for i in range(n):\n",
    "\n",
    "            if word[i] == ch : \n",
    "                idx = i\n",
    "                break\n",
    "\n",
    "        if(idx == -1) : return word\n",
    "\n",
    "        sidx = 0\n",
    "\n",
    "        temp = word[sidx:idx+1]\n",
    "\n",
    "        temp = temp[::-1]\n",
    "\n",
    "        word = word[:sidx] + temp + word[idx+1:]\n",
    "\n",
    "        return word"
   ]
  }
 ],
 "metadata": {
  "language_info": {
   "name": "python"
  }
 },
 "nbformat": 4,
 "nbformat_minor": 2
}
