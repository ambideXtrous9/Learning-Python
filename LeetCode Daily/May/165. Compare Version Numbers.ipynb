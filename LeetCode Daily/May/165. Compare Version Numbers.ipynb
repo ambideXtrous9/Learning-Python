{
 "cells": [
  {
   "cell_type": "markdown",
   "metadata": {},
   "source": [
    "## **165. Compare Version Numbers**"
   ]
  },
  {
   "cell_type": "code",
   "execution_count": null,
   "metadata": {},
   "outputs": [],
   "source": [
    "class Solution:\n",
    "    def compareVersion(self, version1: str, version2: str) -> int:\n",
    "\n",
    "        v1 = version1.split('.')\n",
    "        v2 = version2.split('.')\n",
    "\n",
    "        n = len(v1)\n",
    "        m = len(v2)\n",
    "\n",
    "        i = 0\n",
    "        j = 0\n",
    "\n",
    "        while(i<n and j<m):\n",
    "\n",
    "            x = int(v1[i])\n",
    "            y = int(v2[j])\n",
    "\n",
    "            if(x>y) : return 1\n",
    "\n",
    "            if(x<y) : return -1\n",
    "\n",
    "            i += 1\n",
    "            j += 1\n",
    "\n",
    "        while(i<n) :\n",
    "\n",
    "            x = int(v1[i])\n",
    "\n",
    "            if(x!=0) : return 1\n",
    "\n",
    "            i += 1\n",
    "\n",
    "        while(j<m) :\n",
    "\n",
    "            y = int(v2[j])\n",
    "\n",
    "            if(y!=0) : return -1\n",
    "\n",
    "            j += 1\n",
    "\n",
    "        return 0"
   ]
  }
 ],
 "metadata": {
  "language_info": {
   "name": "python"
  }
 },
 "nbformat": 4,
 "nbformat_minor": 2
}
