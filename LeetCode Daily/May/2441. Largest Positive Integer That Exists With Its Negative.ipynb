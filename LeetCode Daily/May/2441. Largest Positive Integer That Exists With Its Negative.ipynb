{
 "cells": [
  {
   "cell_type": "markdown",
   "metadata": {},
   "source": [
    "## **2441. Largest Positive Integer That Exists With Its Negative**"
   ]
  },
  {
   "cell_type": "code",
   "execution_count": null,
   "metadata": {},
   "outputs": [],
   "source": [
    "class Solution:\n",
    "    def findMaxK(self, nums: List[int]) -> int:\n",
    "\n",
    "        D = {}\n",
    "        ans = -1\n",
    "\n",
    "        for x in nums : \n",
    "\n",
    "            if x>0 and -x in D:\n",
    "\n",
    "                ans = max(ans,x)\n",
    "\n",
    "            elif x<0 and -x in D:\n",
    "                ans = max(ans,-x)\n",
    "    \n",
    "            D[x] = 1\n",
    "\n",
    "        return ans"
   ]
  }
 ],
 "metadata": {
  "language_info": {
   "name": "python"
  }
 },
 "nbformat": 4,
 "nbformat_minor": 2
}
