{
 "cells": [
  {
   "cell_type": "markdown",
   "metadata": {},
   "source": [
    "## **1992. Find All Groups of Farmland**"
   ]
  },
  {
   "cell_type": "code",
   "execution_count": null,
   "metadata": {},
   "outputs": [],
   "source": [
    "class Solution:\n",
    "\n",
    "    def BFS(self,i,j,n,m):\n",
    "\n",
    "        Q = []\n",
    "\n",
    "        Q.append((i,j))\n",
    "\n",
    "        self.M[i][j] = 0\n",
    "\n",
    "        lands = []\n",
    "\n",
    "        coord = [(0,1),(0,-1),(1,0),(-1,0)]\n",
    "\n",
    "        while Q:\n",
    "\n",
    "            (x,y) = Q.pop(0)\n",
    "\n",
    "            lands.append([x,y])\n",
    "\n",
    "\n",
    "            for (dx,dy) in coord:\n",
    "\n",
    "                x = x + dx\n",
    "                y = y + dy\n",
    "\n",
    "                if(x < 0 or x>=n or y<0 or y>=m or self.M[x][y] == 0):\n",
    "                    continue\n",
    "\n",
    "                self.M[x][y] = 0\n",
    "                Q.append((x,y))\n",
    "\n",
    "        temp = []\n",
    "        \n",
    "        temp = lands[0]\n",
    "        temp.extend(lands[-1])\n",
    "\n",
    "        self.ans.append(temp)\n",
    "\n",
    "\n",
    "    def findFarmland(self, land: List[List[int]]) -> List[List[int]]:\n",
    "\n",
    "        self.M = land\n",
    "\n",
    "        n = len(self.M)\n",
    "        m = len(self.M[0])\n",
    "        \n",
    "        self.ans = []\n",
    "\n",
    "        if n == 0 : return []\n",
    "\n",
    "        for i in range(n):\n",
    "\n",
    "            for j in range(m):\n",
    "\n",
    "                if(self.M[i][j] == 1):\n",
    "\n",
    "                    self.BFS(i,j,n,m)\n",
    "\n",
    "        return self.ans\n",
    "\n",
    "\n",
    "        "
   ]
  }
 ],
 "metadata": {
  "language_info": {
   "name": "python"
  }
 },
 "nbformat": 4,
 "nbformat_minor": 2
}
