{
 "cells": [
  {
   "cell_type": "markdown",
   "metadata": {},
   "source": [
    "## **1137. N-th Tribonacci Number**"
   ]
  },
  {
   "cell_type": "code",
   "execution_count": null,
   "metadata": {},
   "outputs": [],
   "source": [
    "class Solution:\n",
    "    def tribonacci(self, n: int) -> int:\n",
    "\n",
    "        if(n<=1) : return n\n",
    "\n",
    "        dp = [0]*(n+1)\n",
    "\n",
    "        dp[0] = 0\n",
    "        dp[1] = 1\n",
    "\n",
    "        dp[2] = 1\n",
    "\n",
    "        if(n<=2) : return dp[n]\n",
    "\n",
    "        for i in range(3,n+1):\n",
    "\n",
    "            dp[i] = dp[i-2] + dp[i-1] + dp[i-3]\n",
    "\n",
    "        return dp[n]\n",
    "        "
   ]
  },
  {
   "cell_type": "code",
   "execution_count": null,
   "metadata": {},
   "outputs": [],
   "source": []
  }
 ],
 "metadata": {
  "language_info": {
   "name": "python"
  }
 },
 "nbformat": 4,
 "nbformat_minor": 2
}
