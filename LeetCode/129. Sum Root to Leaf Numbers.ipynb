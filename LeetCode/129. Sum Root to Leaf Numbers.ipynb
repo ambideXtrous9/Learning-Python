{
 "cells": [
  {
   "cell_type": "code",
   "execution_count": null,
   "metadata": {},
   "outputs": [],
   "source": [
    "# Definition for a binary tree node.\n",
    "\n",
    "\n",
    "class TreeNode:\n",
    "    def __init__(self, val=0, left=None, right=None):\n",
    "        self.val = val\n",
    "        self.left = left\n",
    "        self.right = right\n",
    "\n",
    "class Solution:\n",
    "\n",
    "    def IOR(self,root,temp):\n",
    "\n",
    "        if(not root): \n",
    "            return\n",
    "\n",
    "        if(not root.left and not root.right):\n",
    "            temp = temp*10 + (root.val)\n",
    "            self.sum += temp\n",
    "            return\n",
    "\n",
    "        \n",
    "        temp = temp*10 + (root.val)\n",
    "\n",
    "\n",
    "        self.IOR(root.left,temp)\n",
    "\n",
    "        self.IOR(root.right,temp)\n",
    "\n",
    "    def sumNumbers(self, root: Optional[TreeNode]) -> int:\n",
    "\n",
    "        temp = 0\n",
    "\n",
    "        self.sum = 0\n",
    "\n",
    "        self.IOR(root,temp)\n",
    "\n",
    "        return self.sum\n",
    "        "
   ]
  }
 ],
 "metadata": {
  "language_info": {
   "name": "python"
  }
 },
 "nbformat": 4,
 "nbformat_minor": 2
}
