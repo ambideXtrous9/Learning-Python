{
 "cells": [
  {
   "cell_type": "code",
   "execution_count": null,
   "metadata": {},
   "outputs": [],
   "source": [
    "class Solution:\n",
    "    \n",
    "    # Date : 11.04.24 \n",
    "    \n",
    "    # NGSR and NGSL\n",
    "    # W += min(NGSR[i],NGSL[i]) - A[i]\n",
    "\n",
    "    def NGSR(self,A):\n",
    "\n",
    "        n = len(A)\n",
    "\n",
    "        V = [-1]*n\n",
    "\n",
    "        V[n-1] = A[n-1]\n",
    "\n",
    "        for i in range(n-2,-1,-1):\n",
    "\n",
    "            V[i] = max(V[i+1],A[i])\n",
    "\n",
    "        return V\n",
    "        \n",
    "    def NGSL(self,A):\n",
    "\n",
    "        n = len(A)\n",
    "\n",
    "        V = [-1]*n\n",
    "\n",
    "        V[0] = A[0]\n",
    "\n",
    "        for i in range(1,n):\n",
    "\n",
    "            V[i] = max(V[i-1],A[i])\n",
    "\n",
    "        return V\n",
    "\n",
    "\n",
    "    def trap(self, height: List[int]) -> int:\n",
    "\n",
    "        RA = self.NGSR(height)\n",
    "        LA = self.NGSL(height)\n",
    "\n",
    "        W = 0\n",
    "\n",
    "        for i in range(len(height)):\n",
    "\n",
    "            wall = min(RA[i],LA[i])\n",
    "            W += (wall - height[i])\n",
    "        \n",
    "        return W"
   ]
  }
 ],
 "metadata": {
  "language_info": {
   "name": "python"
  }
 },
 "nbformat": 4,
 "nbformat_minor": 2
}
