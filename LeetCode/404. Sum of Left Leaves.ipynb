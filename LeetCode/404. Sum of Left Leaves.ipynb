{
 "cells": [
  {
   "cell_type": "code",
   "execution_count": null,
   "metadata": {},
   "outputs": [],
   "source": [
    "# Definition for a binary tree node.\n",
    "class TreeNode:\n",
    "    def __init__(self, val=0, left=None, right=None):\n",
    "        self.val = val\n",
    "        self.left = left\n",
    "        self.right = right\n",
    "        \n",
    "        \n",
    "class Solution:\n",
    "    def sumOfLeftLeaves(self, root: Optional[TreeNode]) -> int:\n",
    "\n",
    "        Q = []\n",
    "\n",
    "        if(not root): return 0\n",
    "\n",
    "        sum = 0\n",
    "\n",
    "        Q.append(root)\n",
    "\n",
    "        while Q:\n",
    "\n",
    "            node = Q.pop(0)\n",
    "\n",
    "            cur = node\n",
    "\n",
    "            parent = None\n",
    "\n",
    "            while cur : \n",
    "\n",
    "                if(cur.right) : Q.append(cur.right)\n",
    "\n",
    "                parent = cur\n",
    "\n",
    "                cur = cur.left\n",
    "\n",
    "            if(parent and parent != node and (not parent.right and not parent.left)):\n",
    "\n",
    "                sum += parent.val\n",
    "\n",
    "        \n",
    "        return sum\n",
    "        "
   ]
  }
 ],
 "metadata": {
  "language_info": {
   "name": "python"
  }
 },
 "nbformat": 4,
 "nbformat_minor": 2
}
