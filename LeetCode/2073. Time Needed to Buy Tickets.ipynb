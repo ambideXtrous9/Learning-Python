{
 "cells": [
  {
   "cell_type": "code",
   "execution_count": null,
   "metadata": {},
   "outputs": [],
   "source": [
    "class Solution:\n",
    "    def timeRequiredToBuy(self, tickets: List[int], k: int) -> int:\n",
    "\n",
    "        time = 0\n",
    "        while(tickets[k]):\n",
    "            for i in range(len(tickets)):\n",
    "                \n",
    "                if(tickets[k]==0) : return time\n",
    "                \n",
    "                elif(tickets[i]!=0) : \n",
    "                    tickets[i] -= 1\n",
    "                    time += 1\n",
    "                \n",
    "\n",
    "        return time"
   ]
  },
  {
   "cell_type": "code",
   "execution_count": null,
   "metadata": {},
   "outputs": [],
   "source": [
    "class Solution:\n",
    "    def timeRequiredToBuy(self, tickets: List[int], k: int) -> int:\n",
    "\n",
    "        time = 0\n",
    "\n",
    "        n = len(tickets)\n",
    "\n",
    "        for i in range(k):\n",
    "\n",
    "            time += tickets[i] if(tickets[i] < tickets[k]) else tickets[k]\n",
    "\n",
    "        for i in range(k+1,n):\n",
    "\n",
    "            time += tickets[i] if(tickets[i] < tickets[k]) else tickets[k]-1\n",
    "\n",
    "        time += tickets[k]\n",
    "\n",
    "        return time"
   ]
  }
 ],
 "metadata": {
  "language_info": {
   "name": "python"
  }
 },
 "nbformat": 4,
 "nbformat_minor": 2
}
