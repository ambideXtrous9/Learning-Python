{
 "cells": [
  {
   "cell_type": "code",
   "execution_count": null,
   "metadata": {},
   "outputs": [],
   "source": [
    "class Solution:\n",
    "    def removeKdigits(self, num: str, k: int) -> str:\n",
    "\n",
    "        n = len(num)\n",
    "\n",
    "        S = []\n",
    "\n",
    "        if(n==k) : return \"0\"\n",
    "\n",
    "        for x in num:\n",
    "\n",
    "            while(S and S[-1] > x and k):\n",
    "\n",
    "                S.pop()\n",
    "                k -= 1\n",
    "            \n",
    "            S.append(x)\n",
    "        \n",
    "        while(k) : \n",
    "            S.pop()\n",
    "            k -= 1\n",
    "\n",
    "        while(S and S[0]=='0'): S.pop(0)\n",
    "\n",
    "        res = \"\"\n",
    "\n",
    "        while S : res += S.pop(0)\n",
    "\n",
    "        return \"0\" if(len(res) == 0) else res"
   ]
  }
 ],
 "metadata": {
  "language_info": {
   "name": "python"
  }
 },
 "nbformat": 4,
 "nbformat_minor": 2
}
